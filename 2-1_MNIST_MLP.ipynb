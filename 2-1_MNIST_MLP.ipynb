{
 "cells": [
  {
   "cell_type": "code",
   "metadata": {
    "collapsed": true,
    "pycharm": {
     "name": "#%%\n"
    }
   },
   "source": [
    "# 모듈 import\n",
    "import numpy as np\n",
    "import matplotlib.pyplot as plt\n",
    "import torch\n",
    "import torch.nn as nn\n",
    "import torch.nn.functional as F\n",
    "from torchvision import transforms, datasets\n"
   ],
   "execution_count": 1,
   "outputs": []
  },
  {
   "cell_type": "code",
   "execution_count": 6,
   "outputs": [
    {
     "name": "stdout",
     "output_type": "stream",
     "text": [
      "Using PyTorch version : 1.8.1, Device : cpu\n"
     ]
    }
   ],
   "source": [
    "# 딥러닝 모델을 설계할 때 활용하는 장비 확인하기\n",
    "if torch.cuda.is_available() :\n",
    "    DEVICE = torch.device('cuda')\n",
    "else :\n",
    "    DEVICE = torch.device('cpu')\n",
    "print(f\"Using PyTorch version : {torch.__version__}, Device : {DEVICE}\")\n",
    "\n",
    "BATCH_SIZE = 32 # mini_batch size를 의미\n",
    "EPOCHS = 10"
   ],
   "metadata": {
    "collapsed": false,
    "pycharm": {
     "name": "#%%\n"
    }
   }
  },
  {
   "cell_type": "code",
   "execution_count": 7,
   "outputs": [],
   "source": [
    "# MNIST 데이터 다운로드 (train, test set 분리)\n",
    "\n",
    "\n",
    "train_dataset = datasets.MNIST(root=\"../data/MNIST\",\n",
    "                               train = True,\n",
    "                               download=True,\n",
    "                               transform=transforms.ToTensor())\n",
    "test_dataset = datasets.MNIST(root=\"../data/MNIST\",\n",
    "                               train = False,\n",
    "                               transform=transforms.ToTensor())\n",
    "# train == 학습용 데이터인지, 아닌지 설정\n",
    "# transform.ToTensor() == MNIST는 이미지 데이터 -> MLP의 input으로 사용하기 위해 tensro 형태로 변경하고\n",
    "#               한 픽셀의 값(0~255)을 0~1 범위에서 정규화 시켜줌\n",
    "\n",
    "\n",
    "train_loader = torch.utils.data.DataLoader(dataset = train_dataset,\n",
    "                                           batch_size = BATCH_SIZE,\n",
    "                                           shuffle = True)\n",
    "test_loader = torch.utils.data.DataLoader(dataset = test_dataset,\n",
    "                                          batch_size = BATCH_SIZE,\n",
    "                                          shuffle = False)\n",
    "# 데이터셋을 mini batch 단위로 분리\n",
    "# shuffle = True, 데이터의 순서를 섞어 label 정보의 순서를 암기해 학습 하는 것을 방지\n",
    "# 즉 특정 label에 매치된 이미지 데이터의 특징을 보고 학습하는 것이 아니라 특정 이미지 데이터에 매칭된 label 값만을 집중적으로 학습하는\n",
    "# 잘못된 방향으로 학습하는 것을 방지하기 위해 데이터 순서를 섞는다.\n"
   ],
   "metadata": {
    "collapsed": false,
    "pycharm": {
     "name": "#%%\n"
    }
   }
  },
  {
   "cell_type": "code",
   "execution_count": 8,
   "outputs": [
    {
     "name": "stdout",
     "output_type": "stream",
     "text": [
      "X_train : torch.Size([32, 1, 28, 28]), type : torch.FloatTensor\n",
      "y_train : torch.Size([32]), type : torch.LongTensor\n"
     ]
    }
   ],
   "source": [
    "# 데이터 확인하기 (1)\n",
    "for (X_train, y_train) in train_loader :\n",
    "    print(f\"X_train : {X_train.size()}, type : {X_train.type()}\")\n",
    "    print(f\"y_train : {y_train.size()}, type : {y_train.type()}\")\n",
    "    break\n",
    "\n",
    "# (batch_size, channel, width, height)"
   ],
   "metadata": {
    "collapsed": false,
    "pycharm": {
     "name": "#%%\n"
    }
   }
  },
  {
   "cell_type": "code",
   "execution_count": 10,
   "outputs": [
    {
     "data": {
      "text/plain": "<Figure size 720x72 with 10 Axes>",
      "image/png": "[encoded data removed]"
     },
     "metadata": {
      "needs_background": "light"
     },
     "output_type": "display_data"
    }
   ],
   "source": [
    "# 데이터 확인하기 (2)\n",
    "pltsize = 1\n",
    "plt.figure(figsize=(10*pltsize, pltsize))\n",
    "for i in range(10):\n",
    "    plt.subplot(1,10,i+1)\n",
    "    plt.axis('off')\n",
    "    plt.imshow(X_train[i,:,:,:].numpy().reshape(28,28), cmap=\"gray_r\")\n",
    "    plt.title(f'Class : {str(y_train[i].item())}')"
   ],
   "metadata": {
    "collapsed": false,
    "pycharm": {
     "name": "#%%\n"
    }
   }
  },
  {
   "cell_type": "code",
   "execution_count": 12,
   "outputs": [],
   "source": [
    "# MLP 모델 설계하기\n",
    "class Net(nn.Module) :\n",
    "    def __init__(self):\n",
    "        super(Net, self).__init__()\n",
    "        self.fc1 = nn.Linear(28*28, 512) # (input의 차원수, layer의 node 수)\n",
    "        self.fc2 = nn.Linear(512, 256)\n",
    "        self.fc3 = nn.Linear(256, 10)\n",
    "    def forward(self,x):\n",
    "        x = x.view(-1, 28*28) # 2차원 이미지 데이터를 1차원으로 펼친다 -> flatten\n",
    "        x = self.fc1(x)\n",
    "        x = F.sigmoid(x)\n",
    "        x = self.fc2(x)\n",
    "        x = F.sigmoid(x)\n",
    "        x = self.fc3(x)\n",
    "        x = F.log_softmax(x, dim = 1) # 그냥 softmax가 아닌 log_softmax를 사용하는 이유는 gradient 원활하게 계산하려고\n",
    "        return x"
   ],
   "metadata": {
    "collapsed": false,
    "pycharm": {
     "name": "#%%\n"
    }
   }
  },
  {
   "cell_type": "code",
   "execution_count": 13,
   "outputs": [
    {
     "name": "stdout",
     "output_type": "stream",
     "text": [
      "Net(\n",
      "  (fc1): Linear(in_features=784, out_features=512, bias=True)\n",
      "  (fc2): Linear(in_features=512, out_features=256, bias=True)\n",
      "  (fc3): Linear(in_features=256, out_features=10, bias=True)\n",
      ")\n"
     ]
    }
   ],
   "source": [
    "# Optimizer, Objective Function 설정하기\n",
    "model = Net().to(DEVICE)\n",
    "optimizer = torch.optim.SGD(model.parameters(), lr = 0.01, momentum=0.5)\n",
    "criterion = nn.CrossEntropyLoss()\n",
    "print(model)"
   ],
   "metadata": {
    "collapsed": false,
    "pycharm": {
     "name": "#%%\n"
    }
   }
  },
  {
   "cell_type": "code",
   "execution_count": 19,
   "outputs": [],
   "source": [
    "# MLP 모델 학습을 진행하면서 학습 데이터에 대한 모델 성능을 확인하는 함수 정의\n",
    "def train(model, train_loader, optimizer, log_interval, epoch) :\n",
    "    model.train() # 모델을 학습상태로 만듦\n",
    "    for batch_idx, (image, label) in enumerate(train_loader):\n",
    "        image = image.to(DEVICE) # 데이터를 기존에 정의한 장비에 할당한다.\n",
    "        label = label.to(DEVICE) # label을 기존에 정의한 장비에 할당한다.\n",
    "        optimizer.zero_grad() # 기존에 정의한 장비에 데이터를 할당할 경우, 과거에 사용한 데이터를 바탕으로 계산된 loss의 gradient 값이 optimizer에 할당돼 있으므로 optimizer 초기화\n",
    "        output = model(image)\n",
    "        loss = criterion(output, label)\n",
    "        loss.backward() # loss 값을 바탕으로 BP 해서 나온 gradient를 각 파라미터에 할당\n",
    "        optimizer.step() # 각 파라미터에 할당된 gradient 값을 이용해 파라미터 값 업데이트\n",
    "\n",
    "        if batch_idx % log_interval == 0 :\n",
    "            print(f\"Train Epoch : {epoch} [{batch_idx*len(image)}/\"\n",
    "                  f\"{len(train_loader.dataset)}({100.*batch_idx/len(train_loader):.0f}%)]\"\n",
    "                  f\"\\tTrain Loss : {loss.item()}\")"
   ],
   "metadata": {
    "collapsed": false,
    "pycharm": {
     "name": "#%%\n"
    }
   }
  },
  {
   "cell_type": "code",
   "execution_count": 15,
   "outputs": [],
   "source": [
    "# 학습되는 과정 속에서 검증 데이터에 대한 모델의 성능을 확인하는 함수 정의\n",
    "def evaluate(model, test_loader):\n",
    "    model.eval() # 모델을 평가 상태로 지정\n",
    "    test_loss = 0 # loss 값\n",
    "    correct = 0 # 모델이 올바른 class로 분류한 경우를 count\n",
    "\n",
    "    with torch.no_grad() : # gradient를 통해 parameter가 업데이트 하는 것을 방지하기 위해\n",
    "        for image, label in test_loader :\n",
    "            image = image.to(DEVICE)\n",
    "            label = label.to(DEVICE)\n",
    "            output = model(image)\n",
    "            test_loss += criterion(output, label).item()\n",
    "            prediction = output.max(1, keepdim = True)[1] # 모델의 ouput은 크기가 10인 벡터이다. 따라서 가장 큰 값이 들어있는 위치를 찾아야 한다.\n",
    "            correct += prediction.eq(label.view_as(prediction)).sum().item()\n",
    "\n",
    "            # tensor.max ( return (max, max_index) )\n",
    "            # view_as == 인자로 들어온 tensor로 모양 변경 (메모리에 tensor를 직접 변경 하는게 아님)\n",
    "            # eq == tensor를 비교해 같은 위치에 같은 값이 있으면 해당 위치는 True, 아니면 False인 tensor 반환\n",
    "            # item == tensor를 python single value로 변환 (tensor의 차원은 상관 없으나 값이 1개만 있어야 한다.)\n",
    "\n",
    "        test_loss /= len(test_loader.dataset)\n",
    "        test_accuracy = 100. * correct / len(test_loader.dataset)\n",
    "        return test_loss, test_accuracy"
   ],
   "metadata": {
    "collapsed": false,
    "pycharm": {
     "name": "#%%\n"
    }
   }
  },
  {
   "cell_type": "code",
   "execution_count": 20,
   "outputs": [
    {
     "name": "stderr",
     "output_type": "stream",
     "text": [
      "/usr/local/lib/python3.9/site-packages/torch/nn/functional.py:1709: UserWarning: nn.functional.sigmoid is deprecated. Use torch.sigmoid instead.\n",
      "  warnings.warn(\"nn.functional.sigmoid is deprecated. Use torch.sigmoid instead.\")\n"
     ]
    },
    {
     "name": "stdout",
     "output_type": "stream",
     "text": [
      "Train Epoch : 1 [0/60000(0%)]\tTrain Loss : 0.232181116938591\n",
      "Train Epoch : 1 [6400/60000(11%)]\tTrain Loss : 0.27697500586509705\n",
      "Train Epoch : 1 [12800/60000(21%)]\tTrain Loss : 0.21218270063400269\n",
      "Train Epoch : 1 [19200/60000(32%)]\tTrain Loss : 0.4512953460216522\n",
      "Train Epoch : 1 [25600/60000(43%)]\tTrain Loss : 0.3053562045097351\n",
      "Train Epoch : 1 [32000/60000(53%)]\tTrain Loss : 0.13239409029483795\n",
      "Train Epoch : 1 [38400/60000(64%)]\tTrain Loss : 0.3353593349456787\n",
      "Train Epoch : 1 [44800/60000(75%)]\tTrain Loss : 0.22099807858467102\n",
      "Train Epoch : 1 [51200/60000(85%)]\tTrain Loss : 0.2943059802055359\n",
      "Train Epoch : 1 [57600/60000(96%)]\tTrain Loss : 0.2637534737586975\n",
      "\n",
      "[EPOCH:1] \tTest Loss : 0.0100, \tTest Accuracy : 90.57\n",
      "\n",
      "Train Epoch : 2 [0/60000(0%)]\tTrain Loss : 0.32186102867126465\n",
      "Train Epoch : 2 [6400/60000(11%)]\tTrain Loss : 0.23967550694942474\n",
      "Train Epoch : 2 [12800/60000(21%)]\tTrain Loss : 0.23323500156402588\n",
      "Train Epoch : 2 [19200/60000(32%)]\tTrain Loss : 0.5109347701072693\n",
      "Train Epoch : 2 [25600/60000(43%)]\tTrain Loss : 0.2239692211151123\n",
      "Train Epoch : 2 [32000/60000(53%)]\tTrain Loss : 0.6886361241340637\n",
      "Train Epoch : 2 [38400/60000(64%)]\tTrain Loss : 0.27846017479896545\n",
      "Train Epoch : 2 [44800/60000(75%)]\tTrain Loss : 0.2774468958377838\n",
      "Train Epoch : 2 [51200/60000(85%)]\tTrain Loss : 0.332618772983551\n",
      "Train Epoch : 2 [57600/60000(96%)]\tTrain Loss : 0.25233718752861023\n",
      "\n",
      "[EPOCH:2] \tTest Loss : 0.0097, \tTest Accuracy : 91.02\n",
      "\n",
      "Train Epoch : 3 [0/60000(0%)]\tTrain Loss : 0.17691397666931152\n",
      "Train Epoch : 3 [6400/60000(11%)]\tTrain Loss : 0.38521209359169006\n",
      "Train Epoch : 3 [12800/60000(21%)]\tTrain Loss : 0.13332246243953705\n",
      "Train Epoch : 3 [19200/60000(32%)]\tTrain Loss : 0.4626268744468689\n",
      "Train Epoch : 3 [25600/60000(43%)]\tTrain Loss : 0.42171454429626465\n",
      "Train Epoch : 3 [32000/60000(53%)]\tTrain Loss : 0.15013128519058228\n",
      "Train Epoch : 3 [38400/60000(64%)]\tTrain Loss : 0.1821000874042511\n",
      "Train Epoch : 3 [44800/60000(75%)]\tTrain Loss : 0.1767587959766388\n",
      "Train Epoch : 3 [51200/60000(85%)]\tTrain Loss : 0.5639001727104187\n",
      "Train Epoch : 3 [57600/60000(96%)]\tTrain Loss : 0.27428439259529114\n",
      "\n",
      "[EPOCH:3] \tTest Loss : 0.0095, \tTest Accuracy : 91.13\n",
      "\n",
      "Train Epoch : 4 [0/60000(0%)]\tTrain Loss : 0.43580058217048645\n",
      "Train Epoch : 4 [6400/60000(11%)]\tTrain Loss : 0.3539532721042633\n",
      "Train Epoch : 4 [12800/60000(21%)]\tTrain Loss : 0.21073763072490692\n",
      "Train Epoch : 4 [19200/60000(32%)]\tTrain Loss : 0.41250598430633545\n",
      "Train Epoch : 4 [25600/60000(43%)]\tTrain Loss : 0.373042494058609\n",
      "Train Epoch : 4 [32000/60000(53%)]\tTrain Loss : 0.4031420946121216\n",
      "Train Epoch : 4 [38400/60000(64%)]\tTrain Loss : 0.45942720770835876\n",
      "Train Epoch : 4 [44800/60000(75%)]\tTrain Loss : 0.40451580286026\n",
      "Train Epoch : 4 [51200/60000(85%)]\tTrain Loss : 0.5742294192314148\n",
      "Train Epoch : 4 [57600/60000(96%)]\tTrain Loss : 0.3402215838432312\n",
      "\n",
      "[EPOCH:4] \tTest Loss : 0.0093, \tTest Accuracy : 91.21\n",
      "\n",
      "Train Epoch : 5 [0/60000(0%)]\tTrain Loss : 0.13615728914737701\n",
      "Train Epoch : 5 [6400/60000(11%)]\tTrain Loss : 0.3526759147644043\n",
      "Train Epoch : 5 [12800/60000(21%)]\tTrain Loss : 0.19360382854938507\n",
      "Train Epoch : 5 [19200/60000(32%)]\tTrain Loss : 0.44730931520462036\n",
      "Train Epoch : 5 [25600/60000(43%)]\tTrain Loss : 0.3631758987903595\n",
      "Train Epoch : 5 [32000/60000(53%)]\tTrain Loss : 0.3722379207611084\n",
      "Train Epoch : 5 [38400/60000(64%)]\tTrain Loss : 0.3189149796962738\n",
      "Train Epoch : 5 [44800/60000(75%)]\tTrain Loss : 0.3502563536167145\n",
      "Train Epoch : 5 [51200/60000(85%)]\tTrain Loss : 0.31558048725128174\n",
      "Train Epoch : 5 [57600/60000(96%)]\tTrain Loss : 0.23276996612548828\n",
      "\n",
      "[EPOCH:5] \tTest Loss : 0.0092, \tTest Accuracy : 91.61\n",
      "\n",
      "Train Epoch : 6 [0/60000(0%)]\tTrain Loss : 0.14446192979812622\n",
      "Train Epoch : 6 [6400/60000(11%)]\tTrain Loss : 0.15044915676116943\n",
      "Train Epoch : 6 [12800/60000(21%)]\tTrain Loss : 0.4296918511390686\n",
      "Train Epoch : 6 [19200/60000(32%)]\tTrain Loss : 0.31484106183052063\n",
      "Train Epoch : 6 [25600/60000(43%)]\tTrain Loss : 0.11740857362747192\n",
      "Train Epoch : 6 [32000/60000(53%)]\tTrain Loss : 0.8461543321609497\n",
      "Train Epoch : 6 [38400/60000(64%)]\tTrain Loss : 0.3892635405063629\n",
      "Train Epoch : 6 [44800/60000(75%)]\tTrain Loss : 0.13822683691978455\n",
      "Train Epoch : 6 [51200/60000(85%)]\tTrain Loss : 0.1955203115940094\n",
      "Train Epoch : 6 [57600/60000(96%)]\tTrain Loss : 0.4667310416698456\n",
      "\n",
      "[EPOCH:6] \tTest Loss : 0.0090, \tTest Accuracy : 91.77\n",
      "\n",
      "Train Epoch : 7 [0/60000(0%)]\tTrain Loss : 0.3316713571548462\n",
      "Train Epoch : 7 [6400/60000(11%)]\tTrain Loss : 0.3010183572769165\n",
      "Train Epoch : 7 [12800/60000(21%)]\tTrain Loss : 0.24422022700309753\n",
      "Train Epoch : 7 [19200/60000(32%)]\tTrain Loss : 0.22736528515815735\n",
      "Train Epoch : 7 [25600/60000(43%)]\tTrain Loss : 0.3160858750343323\n",
      "Train Epoch : 7 [32000/60000(53%)]\tTrain Loss : 0.23558077216148376\n",
      "Train Epoch : 7 [38400/60000(64%)]\tTrain Loss : 0.44710826873779297\n",
      "Train Epoch : 7 [44800/60000(75%)]\tTrain Loss : 0.25843197107315063\n",
      "Train Epoch : 7 [51200/60000(85%)]\tTrain Loss : 0.27550166845321655\n",
      "Train Epoch : 7 [57600/60000(96%)]\tTrain Loss : 0.19754436612129211\n",
      "\n",
      "[EPOCH:7] \tTest Loss : 0.0088, \tTest Accuracy : 91.90\n",
      "\n",
      "Train Epoch : 8 [0/60000(0%)]\tTrain Loss : 0.4684184193611145\n",
      "Train Epoch : 8 [6400/60000(11%)]\tTrain Loss : 0.12269464135169983\n",
      "Train Epoch : 8 [12800/60000(21%)]\tTrain Loss : 0.2813063859939575\n",
      "Train Epoch : 8 [19200/60000(32%)]\tTrain Loss : 0.3468294143676758\n",
      "Train Epoch : 8 [25600/60000(43%)]\tTrain Loss : 0.40159961581230164\n",
      "Train Epoch : 8 [32000/60000(53%)]\tTrain Loss : 0.2330983430147171\n",
      "Train Epoch : 8 [38400/60000(64%)]\tTrain Loss : 0.47933506965637207\n",
      "Train Epoch : 8 [44800/60000(75%)]\tTrain Loss : 0.05604417994618416\n",
      "Train Epoch : 8 [51200/60000(85%)]\tTrain Loss : 0.16389200091362\n",
      "Train Epoch : 8 [57600/60000(96%)]\tTrain Loss : 0.29273706674575806\n",
      "\n",
      "[EPOCH:8] \tTest Loss : 0.0087, \tTest Accuracy : 91.86\n",
      "\n",
      "Train Epoch : 9 [0/60000(0%)]\tTrain Loss : 0.2848432660102844\n",
      "Train Epoch : 9 [6400/60000(11%)]\tTrain Loss : 0.11660310626029968\n",
      "Train Epoch : 9 [12800/60000(21%)]\tTrain Loss : 0.1757962852716446\n",
      "Train Epoch : 9 [19200/60000(32%)]\tTrain Loss : 0.35026121139526367\n",
      "Train Epoch : 9 [25600/60000(43%)]\tTrain Loss : 0.3724084794521332\n",
      "Train Epoch : 9 [32000/60000(53%)]\tTrain Loss : 0.3246786296367645\n",
      "Train Epoch : 9 [38400/60000(64%)]\tTrain Loss : 0.17676810920238495\n",
      "Train Epoch : 9 [44800/60000(75%)]\tTrain Loss : 0.2743554711341858\n",
      "Train Epoch : 9 [51200/60000(85%)]\tTrain Loss : 0.18645451962947845\n",
      "Train Epoch : 9 [57600/60000(96%)]\tTrain Loss : 0.3056201636791229\n",
      "\n",
      "[EPOCH:9] \tTest Loss : 0.0086, \tTest Accuracy : 92.19\n",
      "\n",
      "Train Epoch : 10 [0/60000(0%)]\tTrain Loss : 0.24611082673072815\n",
      "Train Epoch : 10 [6400/60000(11%)]\tTrain Loss : 0.1908714324235916\n",
      "Train Epoch : 10 [12800/60000(21%)]\tTrain Loss : 0.1771935522556305\n",
      "Train Epoch : 10 [19200/60000(32%)]\tTrain Loss : 0.3319181203842163\n",
      "Train Epoch : 10 [25600/60000(43%)]\tTrain Loss : 0.30534547567367554\n",
      "Train Epoch : 10 [32000/60000(53%)]\tTrain Loss : 0.14613737165927887\n",
      "Train Epoch : 10 [38400/60000(64%)]\tTrain Loss : 0.4359078109264374\n",
      "Train Epoch : 10 [44800/60000(75%)]\tTrain Loss : 0.6974961161613464\n",
      "Train Epoch : 10 [51200/60000(85%)]\tTrain Loss : 0.48808911442756653\n",
      "Train Epoch : 10 [57600/60000(96%)]\tTrain Loss : 0.07687340676784515\n",
      "\n",
      "[EPOCH:10] \tTest Loss : 0.0084, \tTest Accuracy : 92.30\n",
      "\n"
     ]
    }
   ],
   "source": [
    "# MLP 학습을 실행하면서 Train, Test set의 Loss 및 Test set accuracy 확인하기\n",
    "for Epoch in range(1, EPOCHS+1):\n",
    "    train(model, train_loader, optimizer, log_interval=200, epoch = Epoch)\n",
    "    test_loss, test_accuracy = evaluate(model, test_loader)\n",
    "    print(f\"\\n[EPOCH:{Epoch}] \\tTest Loss : {test_loss:.4f}, \\tTest Accuracy : {test_accuracy:.2f}\\n\")"
   ],
   "metadata": {
    "collapsed": false,
    "pycharm": {
     "name": "#%%\n"
    }
   }
  }
 ],
 "metadata": {
  "kernelspec": {
   "display_name": "Python 3",
   "language": "python",
   "name": "python3"
  },
  "language_info": {
   "codemirror_mode": {
    "name": "ipython",
    "version": 2
   },
   "file_extension": ".py",
   "mimetype": "text/x-python",
   "name": "python",
   "nbconvert_exporter": "python",
   "pygments_lexer": "ipython2",
   "version": "2.7.6"
  }
 },
 "nbformat": 4,
 "nbformat_minor": 0
}