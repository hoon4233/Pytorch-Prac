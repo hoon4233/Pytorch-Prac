{
 "cells": [
  {
   "cell_type": "code",
   "execution_count": 1,
   "metadata": {
    "collapsed": true
   },
   "outputs": [],
   "source": [
    "import torch\n",
    "\n",
    "if torch.cuda.is_available():\n",
    "    DEVICE = torch.device('cuda')\n",
    "else:\n",
    "    DEVICE = torch.device('cpu')"
   ]
  },
  {
   "cell_type": "code",
   "execution_count": 2,
   "outputs": [],
   "source": [
    "# parameter setting\n",
    "BATCH_SIZE = 64\n",
    "INPUT_SIZE = 1000\n",
    "HIDDEN_SIZE = 100\n",
    "OUTPUT_SIZE = 10"
   ],
   "metadata": {
    "collapsed": false,
    "pycharm": {
     "name": "#%%\n"
    }
   }
  },
  {
   "cell_type": "code",
   "execution_count": 3,
   "outputs": [],
   "source": [
    "# initialization\n",
    "x = torch.randn(\n",
    "    BATCH_SIZE, INPUT_SIZE,\n",
    "    device=DEVICE, dtype=torch.float,\n",
    "    requires_grad=False\n",
    ")\n",
    "\n",
    "y = torch.randn(\n",
    "    BATCH_SIZE, OUTPUT_SIZE,\n",
    "    device=DEVICE, dtype=torch.float,\n",
    "    requires_grad=False\n",
    ")\n",
    "w1 = torch.randn(\n",
    "    INPUT_SIZE, HIDDEN_SIZE,\n",
    "    device=DEVICE, dtype=torch.float,\n",
    "    requires_grad=True\n",
    ")\n",
    "w2 = torch.randn(\n",
    "    HIDDEN_SIZE, OUTPUT_SIZE,\n",
    "    device=DEVICE, dtype=torch.float,\n",
    "    requires_grad=True\n",
    ")"
   ],
   "metadata": {
    "collapsed": false,
    "pycharm": {
     "name": "#%%\n"
    }
   }
  },
  {
   "cell_type": "code",
   "execution_count": 4,
   "outputs": [
    {
     "name": "stdout",
     "output_type": "stream",
     "text": [
      "Iter :  100 \t LOSS :  383.09375\n",
      "Iter :  200 \t LOSS :  1.9055213928222656\n",
      "Iter :  300 \t LOSS :  0.016001828014850616\n",
      "Iter :  400 \t LOSS :  0.0003825420280918479\n",
      "Iter :  500 \t LOSS :  6.180987838888541e-05\n"
     ]
    }
   ],
   "source": [
    "# learning\n",
    "learning_rate = 1e-6\n",
    "for t in range(1,501):\n",
    "    y_pred = x.mm(w1).clamp(min=0).mm(w2)\n",
    "    loss = (y_pred-y).pow(2).sum()\n",
    "    if t%100 == 0 :\n",
    "        print(\"Iter : \", t, \"\\t\", \"LOSS : \", loss.item())\n",
    "    loss.backward()\n",
    "\n",
    "    with torch.no_grad():\n",
    "        w1 -= learning_rate*w1.grad\n",
    "        w2 -= learning_rate*w2.grad\n",
    "\n",
    "        w1.grad.zero_()\n",
    "        w2.grad.zero_()"
   ],
   "metadata": {
    "collapsed": false,
    "pycharm": {
     "name": "#%%\n"
    }
   }
  }
 ],
 "metadata": {
  "kernelspec": {
   "display_name": "Python 3",
   "language": "python",
   "name": "python3"
  },
  "language_info": {
   "codemirror_mode": {
    "name": "ipython",
    "version": 2
   },
   "file_extension": ".py",
   "mimetype": "text/x-python",
   "name": "python",
   "nbconvert_exporter": "python",
   "pygments_lexer": "ipython2",
   "version": "2.7.6"
  }
 },
 "nbformat": 4,
 "nbformat_minor": 0
}