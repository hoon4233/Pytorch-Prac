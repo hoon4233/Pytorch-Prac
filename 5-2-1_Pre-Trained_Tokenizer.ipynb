{
 "cells": [
  {
   "cell_type": "code",
   "execution_count": 2,
   "metadata": {
    "collapsed": true
   },
   "outputs": [],
   "source": [
    "# 구글이 제공하는 Sentencepiece\n",
    "# import sentencepiece as spm\n",
    "# s = spm.SentencePieceProcessor(model_file='spm.model')\n",
    "# for n in range(5):\n",
    "#     s.encode('New York', out_type = str, enable_sampling=True, alpha=0.1, nbest=-1)"
   ]
  },
  {
   "cell_type": "code",
   "execution_count": 5,
   "outputs": [
    {
     "name": "stdout",
     "output_type": "stream",
     "text": [
      "30522\n",
      "['my', 'dog', 'is', 'cute', '.', 'he', 'likes', 'playing']\n",
      "105879\n",
      "['my', 'dog', 'is', 'cut', '##e', '.', 'he', 'likes', 'playing']\n"
     ]
    }
   ],
   "source": [
    "# transformers 내의 tokenizer와 vocabulary\n",
    "from transformers import BertTokenizer\n",
    "tokenizer = BertTokenizer.from_pretrained('bert-base-uncased')\n",
    "# bert-base-uncased 라는 모델의 학습에 사용되었던 tokenizer를 불러온 것\n",
    "print(len(tokenizer.vocab))\n",
    "\n",
    "sentence = \"My dog is cute. He likes playing\"\n",
    "print(tokenizer.tokenize(sentence))\n",
    "\n",
    "tokenizer = BertTokenizer.from_pretrained('bert-base-multilingual-uncased')\n",
    "# 다양한 언어를 담고 있는 다른 데이터에서 학습한 모델임\n",
    "print(len(tokenizer.vocab))\n",
    "print(tokenizer.tokenize(sentence))\n",
    "# ##e 는 앞의 글자 바로 다음에 e 가 붙는다는 것 ex)cute"
   ],
   "metadata": {
    "collapsed": false,
    "pycharm": {
     "name": "#%%\n"
    }
   }
  },
  {
   "cell_type": "code",
   "execution_count": null,
   "outputs": [],
   "source": [],
   "metadata": {
    "collapsed": false,
    "pycharm": {
     "name": "#%%\n"
    }
   }
  }
 ],
 "metadata": {
  "kernelspec": {
   "display_name": "Python 3",
   "language": "python",
   "name": "python3"
  },
  "language_info": {
   "codemirror_mode": {
    "name": "ipython",
    "version": 2
   },
   "file_extension": ".py",
   "mimetype": "text/x-python",
   "name": "python",
   "nbconvert_exporter": "python",
   "pygments_lexer": "ipython2",
   "version": "2.7.6"
  }
 },
 "nbformat": 4,
 "nbformat_minor": 0
}