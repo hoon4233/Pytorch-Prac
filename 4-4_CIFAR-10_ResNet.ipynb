{
 "cells": [
  {
   "cell_type": "code",
   "execution_count": 8,
   "metadata": {
    "collapsed": true
   },
   "outputs": [],
   "source": [
    "# 모듈 임포트하기\n",
    "import numpy as np\n",
    "import matplotlib.pyplot as plt\n",
    "import torch\n",
    "import torch.nn as nn\n",
    "import torch.nn.functional as F\n",
    "from torchvision import transforms, datasets"
   ]
  },
  {
   "cell_type": "code",
   "execution_count": 9,
   "outputs": [
    {
     "name": "stdout",
     "output_type": "stream",
     "text": [
      "Using Pytorch version : 1.8.1, Device : cpu\n"
     ]
    }
   ],
   "source": [
    "# 딥러닝 모델을 설계할 때 활용하는 장비 확인하기\n",
    "if torch.cuda.is_available() :\n",
    "    DEVICE = torch.device('cuda')\n",
    "else :\n",
    "    DEVICE = torch.device('cpu')\n",
    "print(f\"Using Pytorch version : {torch.__version__}, Device : {DEVICE}\")\n",
    "\n",
    "BATCH_SIZE = 32\n",
    "EPOCHS = 10"
   ],
   "metadata": {
    "collapsed": false,
    "pycharm": {
     "name": "#%%\n"
    }
   }
  },
  {
   "cell_type": "code",
   "execution_count": 10,
   "outputs": [
    {
     "name": "stdout",
     "output_type": "stream",
     "text": [
      "Files already downloaded and verified\n"
     ]
    }
   ],
   "source": [
    "# CIFAR-10 데이터 다운로드 하기 (Train, Test set 분리)\n",
    "train_dataset = datasets.CIFAR10(root = \"../data/CIFAR-10\",\n",
    "                                      train = True,\n",
    "                                      download= True,\n",
    "                                      transform = transforms.Compose([\n",
    "                                          transforms.RandomHorizontalFlip(), # 해당 이미지를 50% 확률로 좌우 반전\n",
    "                                          transforms.ToTensor(),\n",
    "                                          transforms.Normalize(\n",
    "                                              (0.5, 0.5, 0.5), # 평균\n",
    "                                              (0.5, 0.5, 0.5) #표준편차\n",
    "                                          )\n",
    "                                      ]))\n",
    "test_dataset = datasets.CIFAR10(root = \"../data/CIFAR-10\",\n",
    "                                      train = False,\n",
    "                                      transform = transforms.Compose([\n",
    "                                          transforms.RandomHorizontalFlip(),\n",
    "                                          transforms.ToTensor(),\n",
    "                                          transforms.Normalize(\n",
    "                                              (0.5, 0.5, 0.5), # 평균\n",
    "                                              (0.5, 0.5, 0.5) #표준편차\n",
    "                                          )\n",
    "                                      ]))\n",
    "train_loader = torch.utils.data.DataLoader(dataset = train_dataset,\n",
    "                                           batch_size = BATCH_SIZE,\n",
    "                                           shuffle = True)\n",
    "test_loader = torch.utils.data.DataLoader(dataset = test_dataset,\n",
    "                                           batch_size = BATCH_SIZE,\n",
    "                                           shuffle = False)"
   ],
   "metadata": {
    "collapsed": false,
    "pycharm": {
     "name": "#%%\n"
    }
   }
  },
  {
   "cell_type": "code",
   "execution_count": 18,
   "outputs": [
    {
     "name": "stdout",
     "output_type": "stream",
     "text": [
      "X_train : torch.Size([32, 3, 32, 32]), type : torch.FloatTensor\n",
      "y_train : torch.Size([32]), type : torch.LongTensor\n",
      "X_test : torch.Size([32, 3, 32, 32]), type : torch.FloatTensor\n",
      "y_test : torch.Size([32]), type : torch.LongTensor\n"
     ]
    }
   ],
   "source": [
    "# 데이터 확인하기 (1)\n",
    "for (X_train, y_train) in train_loader :\n",
    "    print(f\"X_train : {X_train.size()}, type : {X_train.type()}\")\n",
    "    print(f\"y_train : {y_train.size()}, type : {y_train.type()}\")\n",
    "    break\n",
    "\n",
    "for (X_test, y_test) in test_loader :\n",
    "    print(f\"X_test : {X_test.size()}, type : {X_test.type()}\")\n",
    "    print(f\"y_test : {y_test.size()}, type : {y_test.type()}\")\n",
    "    break"
   ],
   "metadata": {
    "collapsed": false,
    "pycharm": {
     "name": "#%%\n"
    }
   }
  },
  {
   "cell_type": "code",
   "execution_count": 12,
   "outputs": [
    {
     "name": "stderr",
     "output_type": "stream",
     "text": [
      "Clipping input data to the valid range for imshow with RGB data ([0..1] for floats or [0..255] for integers).\n",
      "Clipping input data to the valid range for imshow with RGB data ([0..1] for floats or [0..255] for integers).\n",
      "Clipping input data to the valid range for imshow with RGB data ([0..1] for floats or [0..255] for integers).\n",
      "Clipping input data to the valid range for imshow with RGB data ([0..1] for floats or [0..255] for integers).\n",
      "Clipping input data to the valid range for imshow with RGB data ([0..1] for floats or [0..255] for integers).\n",
      "Clipping input data to the valid range for imshow with RGB data ([0..1] for floats or [0..255] for integers).\n",
      "Clipping input data to the valid range for imshow with RGB data ([0..1] for floats or [0..255] for integers).\n",
      "Clipping input data to the valid range for imshow with RGB data ([0..1] for floats or [0..255] for integers).\n",
      "Clipping input data to the valid range for imshow with RGB data ([0..1] for floats or [0..255] for integers).\n",
      "Clipping input data to the valid range for imshow with RGB data ([0..1] for floats or [0..255] for integers).\n"
     ]
    },
    {
     "data": {
      "text/plain": "<Figure size 720x72 with 10 Axes>",
      "image/png": "[encoded data removed]"
     },
     "metadata": {
      "needs_background": "light"
     },
     "output_type": "display_data"
    }
   ],
   "source": [
    "# 데이터 확인하기 (2)\n",
    "pltsize = 1\n",
    "plt.figure(figsize=(10*pltsize, pltsize))\n",
    "for i in range(10):\n",
    "    plt.subplot(1, 10, i+1)\n",
    "    plt.axis('off')\n",
    "    plt.imshow(np.transpose(X_train[i], (1,2,0)))\n",
    "        # pytorch 에선 [mini_batch, channel, height, width], 시각화 하기 위해서 [width, height, channel]로 변경\n",
    "    plt.title(f'Class : {str(y_train[i].item())}')"
   ],
   "metadata": {
    "collapsed": false,
    "pycharm": {
     "name": "#%%\n"
    }
   }
  },
  {
   "cell_type": "code",
   "execution_count": 13,
   "outputs": [],
   "source": [
    "# ResNet 모델 설계하기\n",
    "class BasicBlock(nn.Module):\n",
    "    def __init__(self, in_planes, planes, stride = 1 ):\n",
    "        super(BasicBlock, self).__init__()\n",
    "        self.conv1 = nn.Conv2d(in_planes, planes,\n",
    "                               kernel_size=3,\n",
    "                               stride=stride,\n",
    "                               padding=1,\n",
    "                               bias = False)\n",
    "        self.bn1 = nn.BatchNorm2d(planes)\n",
    "        self.conv2 = nn.Conv2d(planes, planes,\n",
    "                               kernel_size=3,\n",
    "                               stride=1,\n",
    "                               padding=1,\n",
    "                               bias = False)\n",
    "        self.bn2 = nn.BatchNorm2d(planes)\n",
    "\n",
    "        self.shortcut = nn.Sequential()\n",
    "        if stride != 1 or in_planes != planes :\n",
    "            self.shortcut = nn.Sequential(\n",
    "                nn.Conv2d(in_planes, planes,\n",
    "                          kernel_size=1,\n",
    "                          stride=stride,\n",
    "                          bias = False),\n",
    "                nn.BatchNorm2d(planes)\n",
    "            )\n",
    "\n",
    "    def forward(self,x):\n",
    "        out = F.relu(self.bn1(self.conv1(x)))\n",
    "        out = self.bn2(self.conv2(out))\n",
    "        out += self.shortcut(x)  # feature map의 크기나 channel 수의 변경이 없는 경우 빈 nn.Sequential에 들어가기 때문에 본래 x 가 나온다.\n",
    "        out = F.relu(out)\n",
    "        return out\n",
    "\n",
    "# pooling 을 이용해 feature map 의 사이즈를 줄이는게 아니라 stride로 줄임\n",
    "# size가 절반이 되면 대신 채널은 2배로\n",
    "# basic block에서 stride != 1 과 in_planes != plaens 는 여기서는 같은 걸 의미\n",
    "#   (featrue map의 크기가 절반이 되고 채널이 2배가 되는 경우)\n",
    "class ResNet(nn.Module):\n",
    "    def __init__(self, num_classes = 10):\n",
    "        super(ResNet, self).__init__()\n",
    "        self.in_planes = 16\n",
    "        self.conv1 = nn.Conv2d(\n",
    "            3, 16,\n",
    "            kernel_size=3,\n",
    "            stride=1,\n",
    "            padding=1,\n",
    "            bias=False\n",
    "        )\n",
    "        self.bn1 = nn.BatchNorm2d(16)\n",
    "        self.layer1 = self._make_layer(16,2,stride=1)\n",
    "        self.layer2 = self._make_layer(32,2,stride=2)\n",
    "        self.layer3 = self._make_layer(64,2,stride=2)\n",
    "        self.linear = nn.Linear(64, num_classes)\n",
    "\n",
    "    def _make_layer(self, planes, num_blocks, stride):\n",
    "        strides = [stride] + [1] * (num_blocks-1)\n",
    "        layers = []\n",
    "        for stride in strides :\n",
    "            layers.append(BasicBlock(self.in_planes, planes, stride))\n",
    "            self.in_planes = planes\n",
    "        return nn.Sequential(*layers)\n",
    "\n",
    "    def forward(self,x):\n",
    "        out = F.relu(self.bn1(self.conv1(x)))\n",
    "        out = self.layer1(out)\n",
    "        out = self.layer2(out)\n",
    "        out = self.layer3(out)\n",
    "        out = F.avg_pool2d(out, 8)\n",
    "        out = out.view(out.size(0),-1)\n",
    "        out = self.linear(out)\n",
    "        return out"
   ],
   "metadata": {
    "collapsed": false,
    "pycharm": {
     "name": "#%%\n"
    }
   }
  },
  {
   "cell_type": "code",
   "execution_count": 14,
   "outputs": [
    {
     "name": "stdout",
     "output_type": "stream",
     "text": [
      "ResNet(\n",
      "  (conv1): Conv2d(3, 16, kernel_size=(3, 3), stride=(1, 1), padding=(1, 1), bias=False)\n",
      "  (bn1): BatchNorm2d(16, eps=1e-05, momentum=0.1, affine=True, track_running_stats=True)\n",
      "  (layer1): Sequential(\n",
      "    (0): BasicBlock(\n",
      "      (conv1): Conv2d(16, 16, kernel_size=(3, 3), stride=(1, 1), padding=(1, 1), bias=False)\n",
      "      (bn1): BatchNorm2d(16, eps=1e-05, momentum=0.1, affine=True, track_running_stats=True)\n",
      "      (conv2): Conv2d(16, 16, kernel_size=(3, 3), stride=(1, 1), padding=(1, 1), bias=False)\n",
      "      (bn2): BatchNorm2d(16, eps=1e-05, momentum=0.1, affine=True, track_running_stats=True)\n",
      "      (shortcut): Sequential()\n",
      "    )\n",
      "    (1): BasicBlock(\n",
      "      (conv1): Conv2d(16, 16, kernel_size=(3, 3), stride=(1, 1), padding=(1, 1), bias=False)\n",
      "      (bn1): BatchNorm2d(16, eps=1e-05, momentum=0.1, affine=True, track_running_stats=True)\n",
      "      (conv2): Conv2d(16, 16, kernel_size=(3, 3), stride=(1, 1), padding=(1, 1), bias=False)\n",
      "      (bn2): BatchNorm2d(16, eps=1e-05, momentum=0.1, affine=True, track_running_stats=True)\n",
      "      (shortcut): Sequential()\n",
      "    )\n",
      "  )\n",
      "  (layer2): Sequential(\n",
      "    (0): BasicBlock(\n",
      "      (conv1): Conv2d(16, 32, kernel_size=(3, 3), stride=(2, 2), padding=(1, 1), bias=False)\n",
      "      (bn1): BatchNorm2d(32, eps=1e-05, momentum=0.1, affine=True, track_running_stats=True)\n",
      "      (conv2): Conv2d(32, 32, kernel_size=(3, 3), stride=(1, 1), padding=(1, 1), bias=False)\n",
      "      (bn2): BatchNorm2d(32, eps=1e-05, momentum=0.1, affine=True, track_running_stats=True)\n",
      "      (shortcut): Sequential(\n",
      "        (0): Conv2d(16, 32, kernel_size=(1, 1), stride=(2, 2), bias=False)\n",
      "        (1): BatchNorm2d(32, eps=1e-05, momentum=0.1, affine=True, track_running_stats=True)\n",
      "      )\n",
      "    )\n",
      "    (1): BasicBlock(\n",
      "      (conv1): Conv2d(32, 32, kernel_size=(3, 3), stride=(1, 1), padding=(1, 1), bias=False)\n",
      "      (bn1): BatchNorm2d(32, eps=1e-05, momentum=0.1, affine=True, track_running_stats=True)\n",
      "      (conv2): Conv2d(32, 32, kernel_size=(3, 3), stride=(1, 1), padding=(1, 1), bias=False)\n",
      "      (bn2): BatchNorm2d(32, eps=1e-05, momentum=0.1, affine=True, track_running_stats=True)\n",
      "      (shortcut): Sequential()\n",
      "    )\n",
      "  )\n",
      "  (layer3): Sequential(\n",
      "    (0): BasicBlock(\n",
      "      (conv1): Conv2d(32, 64, kernel_size=(3, 3), stride=(2, 2), padding=(1, 1), bias=False)\n",
      "      (bn1): BatchNorm2d(64, eps=1e-05, momentum=0.1, affine=True, track_running_stats=True)\n",
      "      (conv2): Conv2d(64, 64, kernel_size=(3, 3), stride=(1, 1), padding=(1, 1), bias=False)\n",
      "      (bn2): BatchNorm2d(64, eps=1e-05, momentum=0.1, affine=True, track_running_stats=True)\n",
      "      (shortcut): Sequential(\n",
      "        (0): Conv2d(32, 64, kernel_size=(1, 1), stride=(2, 2), bias=False)\n",
      "        (1): BatchNorm2d(64, eps=1e-05, momentum=0.1, affine=True, track_running_stats=True)\n",
      "      )\n",
      "    )\n",
      "    (1): BasicBlock(\n",
      "      (conv1): Conv2d(64, 64, kernel_size=(3, 3), stride=(1, 1), padding=(1, 1), bias=False)\n",
      "      (bn1): BatchNorm2d(64, eps=1e-05, momentum=0.1, affine=True, track_running_stats=True)\n",
      "      (conv2): Conv2d(64, 64, kernel_size=(3, 3), stride=(1, 1), padding=(1, 1), bias=False)\n",
      "      (bn2): BatchNorm2d(64, eps=1e-05, momentum=0.1, affine=True, track_running_stats=True)\n",
      "      (shortcut): Sequential()\n",
      "    )\n",
      "  )\n",
      "  (linear): Linear(in_features=64, out_features=10, bias=True)\n",
      ")\n"
     ]
    }
   ],
   "source": [
    "# Optimizer, Objective Function 설정하기\n",
    "model = ResNet().to(DEVICE)\n",
    "optimizer = torch.optim.Adam(model.parameters(), lr = 0.001)\n",
    "criterion = nn.CrossEntropyLoss()\n",
    "print(model)"
   ],
   "metadata": {
    "collapsed": false,
    "pycharm": {
     "name": "#%%\n"
    }
   }
  },
  {
   "cell_type": "code",
   "execution_count": 15,
   "outputs": [],
   "source": [
    "# MLP 모델 학습을 진행하면서 학습 데이터에 대한 모델 성능을 확인하는 함수 정의\n",
    "def train(model, train_loader, optimizer, log_interval, epoch) :\n",
    "    model.train()\n",
    "    for batch_idx, (image, label) in enumerate(train_loader):\n",
    "        image = image.to(DEVICE)\n",
    "        label = label.to(DEVICE)\n",
    "        optimizer.zero_grad()\n",
    "        output = model(image)\n",
    "        loss = criterion(output, label)\n",
    "        loss.backward()\n",
    "        optimizer.step()\n",
    "\n",
    "        if batch_idx % log_interval == 0 :\n",
    "            print(f\"Train Epoch : {epoch} [{batch_idx*len(image)}/\"\n",
    "                  f\"{len(train_loader.dataset)}({100.*batch_idx/len(train_loader):.0f}%)]\"\n",
    "                  f\"\\tTrain Loss : {loss.item()}\")"
   ],
   "metadata": {
    "collapsed": false,
    "pycharm": {
     "name": "#%%\n"
    }
   }
  },
  {
   "cell_type": "code",
   "execution_count": 16,
   "outputs": [],
   "source": [
    "# 학습되는 과정 속에서 검증 데이터에 대한 모델 성능을 확인하는 함수 정의\n",
    "def evaluate(model, test_loader):\n",
    "    model.eval()\n",
    "    test_loss = 0\n",
    "    correct = 0\n",
    "\n",
    "    with torch.no_grad() :\n",
    "        for image, label in test_loader :\n",
    "            image = image.to(DEVICE)\n",
    "            label = label.to(DEVICE)\n",
    "            output = model(image)\n",
    "\n",
    "            test_loss += criterion(output, label).item()\n",
    "            prediction = output.max(1, keepdim=True)[1]\n",
    "            correct += prediction.eq(label.view_as(prediction)).sum().item()\n",
    "\n",
    "    test_loss /= len(test_loader.dataset)\n",
    "    test_accuracy = 100.*correct/len(test_loader.dataset)\n",
    "    return test_loss, test_accuracy"
   ],
   "metadata": {
    "collapsed": false,
    "pycharm": {
     "name": "#%%\n"
    }
   }
  },
  {
   "cell_type": "code",
   "execution_count": 17,
   "outputs": [
    {
     "name": "stdout",
     "output_type": "stream",
     "text": [
      "Train Epoch : 1 [0/50000(0%)]\tTrain Loss : 2.4760820865631104\n",
      "Train Epoch : 1 [6400/50000(13%)]\tTrain Loss : 1.7831093072891235\n",
      "Train Epoch : 1 [12800/50000(26%)]\tTrain Loss : 1.3180911540985107\n",
      "Train Epoch : 1 [19200/50000(38%)]\tTrain Loss : 1.3241056203842163\n",
      "Train Epoch : 1 [25600/50000(51%)]\tTrain Loss : 1.1489046812057495\n",
      "Train Epoch : 1 [32000/50000(64%)]\tTrain Loss : 1.1546061038970947\n",
      "Train Epoch : 1 [38400/50000(77%)]\tTrain Loss : 1.0795819759368896\n",
      "Train Epoch : 1 [44800/50000(90%)]\tTrain Loss : 0.8418883085250854\n",
      "\n",
      "[EPOCH:1] \tTest Loss : 0.0365 \tTest Accuracy : 59.78\n",
      "\n",
      "Train Epoch : 2 [0/50000(0%)]\tTrain Loss : 0.7072941660881042\n",
      "Train Epoch : 2 [6400/50000(13%)]\tTrain Loss : 1.1547490358352661\n",
      "Train Epoch : 2 [12800/50000(26%)]\tTrain Loss : 0.9879781603813171\n",
      "Train Epoch : 2 [19200/50000(38%)]\tTrain Loss : 0.8564906120300293\n",
      "Train Epoch : 2 [25600/50000(51%)]\tTrain Loss : 1.163549542427063\n",
      "Train Epoch : 2 [32000/50000(64%)]\tTrain Loss : 0.9182717204093933\n",
      "Train Epoch : 2 [38400/50000(77%)]\tTrain Loss : 0.7570988535881042\n",
      "Train Epoch : 2 [44800/50000(90%)]\tTrain Loss : 0.4943753778934479\n",
      "\n",
      "[EPOCH:2] \tTest Loss : 0.0262 \tTest Accuracy : 70.98\n",
      "\n",
      "Train Epoch : 3 [0/50000(0%)]\tTrain Loss : 0.6157472729682922\n",
      "Train Epoch : 3 [6400/50000(13%)]\tTrain Loss : 0.9040367603302002\n",
      "Train Epoch : 3 [12800/50000(26%)]\tTrain Loss : 1.0056982040405273\n",
      "Train Epoch : 3 [19200/50000(38%)]\tTrain Loss : 0.7396425604820251\n",
      "Train Epoch : 3 [25600/50000(51%)]\tTrain Loss : 0.7862207889556885\n",
      "Train Epoch : 3 [32000/50000(64%)]\tTrain Loss : 0.9302889108657837\n",
      "Train Epoch : 3 [38400/50000(77%)]\tTrain Loss : 0.6820611357688904\n",
      "Train Epoch : 3 [44800/50000(90%)]\tTrain Loss : 0.9015454649925232\n",
      "\n",
      "[EPOCH:3] \tTest Loss : 0.0232 \tTest Accuracy : 73.81\n",
      "\n",
      "Train Epoch : 4 [0/50000(0%)]\tTrain Loss : 0.7120601534843445\n",
      "Train Epoch : 4 [6400/50000(13%)]\tTrain Loss : 0.8984367251396179\n",
      "Train Epoch : 4 [12800/50000(26%)]\tTrain Loss : 0.5248409509658813\n",
      "Train Epoch : 4 [19200/50000(38%)]\tTrain Loss : 0.6021220684051514\n",
      "Train Epoch : 4 [25600/50000(51%)]\tTrain Loss : 0.6274402737617493\n",
      "Train Epoch : 4 [32000/50000(64%)]\tTrain Loss : 0.7015010118484497\n",
      "Train Epoch : 4 [38400/50000(77%)]\tTrain Loss : 0.7283377647399902\n",
      "Train Epoch : 4 [44800/50000(90%)]\tTrain Loss : 0.716963529586792\n",
      "\n",
      "[EPOCH:4] \tTest Loss : 0.0208 \tTest Accuracy : 76.94\n",
      "\n",
      "Train Epoch : 5 [0/50000(0%)]\tTrain Loss : 0.7302106618881226\n",
      "Train Epoch : 5 [6400/50000(13%)]\tTrain Loss : 0.34837400913238525\n",
      "Train Epoch : 5 [12800/50000(26%)]\tTrain Loss : 0.8982933163642883\n",
      "Train Epoch : 5 [19200/50000(38%)]\tTrain Loss : 0.5485410094261169\n",
      "Train Epoch : 5 [25600/50000(51%)]\tTrain Loss : 0.4550604820251465\n",
      "Train Epoch : 5 [32000/50000(64%)]\tTrain Loss : 0.7032480239868164\n",
      "Train Epoch : 5 [38400/50000(77%)]\tTrain Loss : 0.45811933279037476\n",
      "Train Epoch : 5 [44800/50000(90%)]\tTrain Loss : 0.6149956583976746\n",
      "\n",
      "[EPOCH:5] \tTest Loss : 0.0193 \tTest Accuracy : 78.57\n",
      "\n",
      "Train Epoch : 6 [0/50000(0%)]\tTrain Loss : 0.5430382490158081\n",
      "Train Epoch : 6 [6400/50000(13%)]\tTrain Loss : 0.47416365146636963\n",
      "Train Epoch : 6 [12800/50000(26%)]\tTrain Loss : 0.8262696266174316\n",
      "Train Epoch : 6 [19200/50000(38%)]\tTrain Loss : 0.6185902953147888\n",
      "Train Epoch : 6 [25600/50000(51%)]\tTrain Loss : 0.9288982152938843\n",
      "Train Epoch : 6 [32000/50000(64%)]\tTrain Loss : 0.47218865156173706\n",
      "Train Epoch : 6 [38400/50000(77%)]\tTrain Loss : 0.35067218542099\n",
      "Train Epoch : 6 [44800/50000(90%)]\tTrain Loss : 0.635084331035614\n",
      "\n",
      "[EPOCH:6] \tTest Loss : 0.0186 \tTest Accuracy : 79.46\n",
      "\n",
      "Train Epoch : 7 [0/50000(0%)]\tTrain Loss : 0.6201042532920837\n",
      "Train Epoch : 7 [6400/50000(13%)]\tTrain Loss : 0.47210225462913513\n",
      "Train Epoch : 7 [12800/50000(26%)]\tTrain Loss : 0.7887267470359802\n",
      "Train Epoch : 7 [19200/50000(38%)]\tTrain Loss : 0.4136602580547333\n",
      "Train Epoch : 7 [25600/50000(51%)]\tTrain Loss : 0.6004199981689453\n",
      "Train Epoch : 7 [32000/50000(64%)]\tTrain Loss : 0.48441559076309204\n",
      "Train Epoch : 7 [38400/50000(77%)]\tTrain Loss : 0.5807565450668335\n",
      "Train Epoch : 7 [44800/50000(90%)]\tTrain Loss : 0.7627156972885132\n",
      "\n",
      "[EPOCH:7] \tTest Loss : 0.0175 \tTest Accuracy : 80.63\n",
      "\n",
      "Train Epoch : 8 [0/50000(0%)]\tTrain Loss : 0.36163243651390076\n",
      "Train Epoch : 8 [6400/50000(13%)]\tTrain Loss : 0.21879084408283234\n",
      "Train Epoch : 8 [12800/50000(26%)]\tTrain Loss : 0.44195255637168884\n",
      "Train Epoch : 8 [19200/50000(38%)]\tTrain Loss : 0.5723113417625427\n",
      "Train Epoch : 8 [25600/50000(51%)]\tTrain Loss : 0.3450547754764557\n",
      "Train Epoch : 8 [32000/50000(64%)]\tTrain Loss : 0.45226550102233887\n",
      "Train Epoch : 8 [38400/50000(77%)]\tTrain Loss : 0.6263291239738464\n",
      "Train Epoch : 8 [44800/50000(90%)]\tTrain Loss : 0.46062833070755005\n",
      "\n",
      "[EPOCH:8] \tTest Loss : 0.0173 \tTest Accuracy : 80.92\n",
      "\n",
      "Train Epoch : 9 [0/50000(0%)]\tTrain Loss : 0.41692596673965454\n",
      "Train Epoch : 9 [6400/50000(13%)]\tTrain Loss : 0.5235234498977661\n",
      "Train Epoch : 9 [12800/50000(26%)]\tTrain Loss : 0.5752953886985779\n",
      "Train Epoch : 9 [19200/50000(38%)]\tTrain Loss : 0.4313889145851135\n",
      "Train Epoch : 9 [25600/50000(51%)]\tTrain Loss : 0.9522169232368469\n",
      "Train Epoch : 9 [32000/50000(64%)]\tTrain Loss : 0.7079665064811707\n",
      "Train Epoch : 9 [38400/50000(77%)]\tTrain Loss : 0.2303806096315384\n",
      "Train Epoch : 9 [44800/50000(90%)]\tTrain Loss : 0.41264474391937256\n",
      "\n",
      "[EPOCH:9] \tTest Loss : 0.0182 \tTest Accuracy : 80.08\n",
      "\n",
      "Train Epoch : 10 [0/50000(0%)]\tTrain Loss : 0.5088403820991516\n",
      "Train Epoch : 10 [6400/50000(13%)]\tTrain Loss : 0.5087922215461731\n",
      "Train Epoch : 10 [12800/50000(26%)]\tTrain Loss : 0.3936324119567871\n",
      "Train Epoch : 10 [19200/50000(38%)]\tTrain Loss : 0.33277368545532227\n",
      "Train Epoch : 10 [25600/50000(51%)]\tTrain Loss : 0.4429450035095215\n",
      "Train Epoch : 10 [32000/50000(64%)]\tTrain Loss : 0.5573725700378418\n",
      "Train Epoch : 10 [38400/50000(77%)]\tTrain Loss : 0.47844457626342773\n",
      "Train Epoch : 10 [44800/50000(90%)]\tTrain Loss : 0.2673926055431366\n",
      "\n",
      "[EPOCH:10] \tTest Loss : 0.0164 \tTest Accuracy : 82.36\n",
      "\n"
     ]
    }
   ],
   "source": [
    "# MLP 학습을 실행하면서 Train, Test set의 Loss 및 Test set Accuracy 확인하기\n",
    "for Epoch in range(1, EPOCHS+1):\n",
    "    train(model, train_loader, optimizer, log_interval=200, epoch=Epoch)\n",
    "    test_loss, test_accuracy = evaluate(model, test_loader)\n",
    "    print(f\"\\n[EPOCH:{Epoch}] \\tTest Loss : {test_loss:.4f} \\tTest Accuracy : {test_accuracy:.2f}\\n\")"
   ],
   "metadata": {
    "collapsed": false,
    "pycharm": {
     "name": "#%%\n"
    }
   }
  }
 ],
 "metadata": {
  "kernelspec": {
   "display_name": "Python 3",
   "language": "python",
   "name": "python3"
  },
  "language_info": {
   "codemirror_mode": {
    "name": "ipython",
    "version": 2
   },
   "file_extension": ".py",
   "mimetype": "text/x-python",
   "name": "python",
   "nbconvert_exporter": "python",
   "pygments_lexer": "ipython2",
   "version": "2.7.6"
  }
 },
 "nbformat": 4,
 "nbformat_minor": 0
}