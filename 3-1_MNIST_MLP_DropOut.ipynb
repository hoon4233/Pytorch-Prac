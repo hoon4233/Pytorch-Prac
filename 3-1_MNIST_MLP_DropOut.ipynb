{
 "cells": [
  {
   "cell_type": "code",
   "metadata": {
    "collapsed": true,
    "pycharm": {
     "name": "#%%\n"
    }
   },
   "source": [
    "# 모듈 import\n",
    "import numpy as np\n",
    "import matplotlib.pyplot as plt\n",
    "import torch\n",
    "import torch.nn as nn\n",
    "import torch.nn.functional as F\n",
    "from torchvision import transforms, datasets\n"
   ],
   "execution_count": 1,
   "outputs": []
  },
  {
   "cell_type": "code",
   "execution_count": 2,
   "outputs": [
    {
     "name": "stdout",
     "output_type": "stream",
     "text": [
      "Using PyTorch version : 1.8.1, Device : cpu\n"
     ]
    }
   ],
   "source": [
    "# 딥러닝 모델을 설계할 때 활용하는 장비 확인하기\n",
    "if torch.cuda.is_available() :\n",
    "    DEVICE = torch.device('cuda')\n",
    "else :\n",
    "    DEVICE = torch.device('cpu')\n",
    "print(f\"Using PyTorch version : {torch.__version__}, Device : {DEVICE}\")\n",
    "\n",
    "BATCH_SIZE = 32 # mini_batch size를 의미\n",
    "EPOCHS = 10"
   ],
   "metadata": {
    "collapsed": false,
    "pycharm": {
     "name": "#%%\n"
    }
   }
  },
  {
   "cell_type": "code",
   "execution_count": 3,
   "outputs": [],
   "source": [
    "# MNIST 데이터 다운로드 (train, test set 분리)\n",
    "\n",
    "\n",
    "train_dataset = datasets.MNIST(root=\"../data/MNIST\",\n",
    "                               train = True,\n",
    "                               download=True,\n",
    "                               transform=transforms.ToTensor())\n",
    "test_dataset = datasets.MNIST(root=\"../data/MNIST\",\n",
    "                               train = False,\n",
    "                               transform=transforms.ToTensor())\n",
    "# train == 학습용 데이터인지, 아닌지 설정\n",
    "# transform.ToTensor() == MNIST는 이미지 데이터 -> MLP의 input으로 사용하기 위해 tensro 형태로 변경하고\n",
    "#               한 픽셀의 값(0~255)을 0~1 범위에서 정규화 시켜줌\n",
    "\n",
    "\n",
    "train_loader = torch.utils.data.DataLoader(dataset = train_dataset,\n",
    "                                           batch_size = BATCH_SIZE,\n",
    "                                           shuffle = True)\n",
    "test_loader = torch.utils.data.DataLoader(dataset = test_dataset,\n",
    "                                          batch_size = BATCH_SIZE,\n",
    "                                          shuffle = False)\n",
    "# 데이터셋을 mini batch 단위로 분리\n",
    "# shuffle = True, 데이터의 순서를 섞어 label 정보의 순서를 암기해 학습 하는 것을 방지\n",
    "# 즉 특정 label에 매치된 이미지 데이터의 특징을 보고 학습하는 것이 아니라 특정 이미지 데이터에 매칭된 label 값만을 집중적으로 학습하는\n",
    "# 잘못된 방향으로 학습하는 것을 방지하기 위해 데이터 순서를 섞는다.\n"
   ],
   "metadata": {
    "collapsed": false,
    "pycharm": {
     "name": "#%%\n"
    }
   }
  },
  {
   "cell_type": "code",
   "execution_count": 4,
   "outputs": [
    {
     "name": "stdout",
     "output_type": "stream",
     "text": [
      "X_train : torch.Size([32, 1, 28, 28]), type : torch.FloatTensor\n",
      "y_train : torch.Size([32]), type : torch.LongTensor\n"
     ]
    }
   ],
   "source": [
    "# 데이터 확인하기 (1)\n",
    "for (X_train, y_train) in train_loader :\n",
    "    print(f\"X_train : {X_train.size()}, type : {X_train.type()}\")\n",
    "    print(f\"y_train : {y_train.size()}, type : {y_train.type()}\")\n",
    "    break\n",
    "\n",
    "# (batch_size, channel, width, height)"
   ],
   "metadata": {
    "collapsed": false,
    "pycharm": {
     "name": "#%%\n"
    }
   }
  },
  {
   "cell_type": "code",
   "execution_count": 5,
   "outputs": [
    {
     "data": {
      "text/plain": "<Figure size 720x72 with 10 Axes>",
      "image/png": "[encoded data removed]"
     },
     "metadata": {
      "needs_background": "light"
     },
     "output_type": "display_data"
    }
   ],
   "source": [
    "# 데이터 확인하기 (2)\n",
    "pltsize = 1\n",
    "plt.figure(figsize=(10*pltsize, pltsize))\n",
    "for i in range(10):\n",
    "    plt.subplot(1,10,i+1)\n",
    "    plt.axis('off')\n",
    "    plt.imshow(X_train[i,:,:,:].numpy().reshape(28,28), cmap=\"gray_r\")\n",
    "    plt.title(f'Class : {str(y_train[i].item())}')"
   ],
   "metadata": {
    "collapsed": false,
    "pycharm": {
     "name": "#%%\n"
    }
   }
  },
  {
   "cell_type": "code",
   "execution_count": 6,
   "outputs": [],
   "source": [
    "# MLP 모델 설계하기\n",
    "class Net(nn.Module) :\n",
    "    def __init__(self):\n",
    "        super(Net, self).__init__()\n",
    "        self.fc1 = nn.Linear(28*28, 512) # (input의 차원수, layer의 node 수)\n",
    "        self.fc2 = nn.Linear(512, 256)\n",
    "        self.fc3 = nn.Linear(256, 10)\n",
    "        self.dropout_prob = 0.5\n",
    "    def forward(self,x):\n",
    "        x = x.view(-1, 28*28) # 2차원 이미지 데이터를 1차원으로 펼친다 -> flatten\n",
    "        x = self.fc1(x)\n",
    "        x = F.sigmoid(x)\n",
    "        x = F.dropout(x, training = self.training, p = self.dropout_prob)\n",
    "        x = self.fc2(x)\n",
    "        x = F.sigmoid(x)\n",
    "        x = F.dropout(x, training = self.training, p = self.dropout_prob)\n",
    "        x = self.fc3(x)\n",
    "        x = F.log_softmax(x, dim = 1) # 그냥 softmax가 아닌 log_softmax를 사용하는 이유는 gradient 원활하게 계산하려고\n",
    "        return x"
   ],
   "metadata": {
    "collapsed": false,
    "pycharm": {
     "name": "#%%\n"
    }
   }
  },
  {
   "cell_type": "code",
   "execution_count": 7,
   "outputs": [
    {
     "name": "stdout",
     "output_type": "stream",
     "text": [
      "Net(\n",
      "  (fc1): Linear(in_features=784, out_features=512, bias=True)\n",
      "  (fc2): Linear(in_features=512, out_features=256, bias=True)\n",
      "  (fc3): Linear(in_features=256, out_features=10, bias=True)\n",
      ")\n"
     ]
    }
   ],
   "source": [
    "# Optimizer, Objective Function 설정하기\n",
    "model = Net().to(DEVICE)\n",
    "optimizer = torch.optim.SGD(model.parameters(), lr = 0.01, momentum=0.5)\n",
    "criterion = nn.CrossEntropyLoss()\n",
    "print(model)"
   ],
   "metadata": {
    "collapsed": false,
    "pycharm": {
     "name": "#%%\n"
    }
   }
  },
  {
   "cell_type": "code",
   "execution_count": 8,
   "outputs": [],
   "source": [
    "# MLP 모델 학습을 진행하면서 학습 데이터에 대한 모델 성능을 확인하는 함수 정의\n",
    "def train(model, train_loader, optimizer, log_interval, epoch) :\n",
    "    model.train() # 모델을 학습상태로 만듦\n",
    "    for batch_idx, (image, label) in enumerate(train_loader):\n",
    "        image = image.to(DEVICE) # 데이터를 기존에 정의한 장비에 할당한다.\n",
    "        label = label.to(DEVICE) # label을 기존에 정의한 장비에 할당한다.\n",
    "        optimizer.zero_grad() # 기존에 정의한 장비에 데이터를 할당할 경우, 과거에 사용한 데이터를 바탕으로 계산된 loss의 gradient 값이 optimizer에 할당돼 있으므로 optimizer 초기화\n",
    "        output = model(image)\n",
    "        loss = criterion(output, label)\n",
    "        loss.backward() # loss 값을 바탕으로 BP 해서 나온 gradient를 각 파라미터에 할당\n",
    "        optimizer.step() # 각 파라미터에 할당된 gradient 값을 이용해 파라미터 값 업데이트\n",
    "\n",
    "        if batch_idx % log_interval == 0 :\n",
    "            print(f\"Train Epoch : {epoch} [{batch_idx*len(image)}/\"\n",
    "                  f\"{len(train_loader.dataset)}({100.*batch_idx/len(train_loader):.0f}%)]\"\n",
    "                  f\"\\tTrain Loss : {loss.item()}\")"
   ],
   "metadata": {
    "collapsed": false,
    "pycharm": {
     "name": "#%%\n"
    }
   }
  },
  {
   "cell_type": "code",
   "execution_count": 9,
   "outputs": [],
   "source": [
    "# 학습되는 과정 속에서 검증 데이터에 대한 모델의 성능을 확인하는 함수 정의\n",
    "def evaluate(model, test_loader):\n",
    "    model.eval() # 모델을 평가 상태로 지정\n",
    "    test_loss = 0 # loss 값\n",
    "    correct = 0 # 모델이 올바른 class로 분류한 경우를 count\n",
    "\n",
    "    with torch.no_grad() : # gradient를 통해 parameter가 업데이트 하는 것을 방지하기 위해\n",
    "        for image, label in test_loader :\n",
    "            image = image.to(DEVICE)\n",
    "            label = label.to(DEVICE)\n",
    "            output = model(image)\n",
    "            test_loss += criterion(output, label).item()\n",
    "            prediction = output.max(1, keepdim = True)[1] # 모델의 ouput은 크기가 10인 벡터이다. 따라서 가장 큰 값이 들어있는 위치를 찾아야 한다.\n",
    "            correct += prediction.eq(label.view_as(prediction)).sum().item()\n",
    "\n",
    "            # tensor.max ( return (max, max_index) )\n",
    "            # view_as == 인자로 들어온 tensor로 모양 변경 (메모리에 tensor를 직접 변경 하는게 아님)\n",
    "            # eq == tensor를 비교해 같은 위치에 같은 값이 있으면 해당 위치는 True, 아니면 False인 tensor 반환\n",
    "            # item == tensor를 python single value로 변환 (tensor의 차원은 상관 없으나 값이 1개만 있어야 한다.)\n",
    "\n",
    "        test_loss /= len(test_loader.dataset)\n",
    "        test_accuracy = 100. * correct / len(test_loader.dataset)\n",
    "        return test_loss, test_accuracy"
   ],
   "metadata": {
    "collapsed": false,
    "pycharm": {
     "name": "#%%\n"
    }
   }
  },
  {
   "cell_type": "code",
   "execution_count": 10,
   "outputs": [
    {
     "name": "stdout",
     "output_type": "stream",
     "text": [
      "Train Epoch : 1 [0/60000(0%)]\tTrain Loss : 2.4530510902404785\n"
     ]
    },
    {
     "name": "stderr",
     "output_type": "stream",
     "text": [
      "/usr/local/lib/python3.9/site-packages/torch/nn/functional.py:1709: UserWarning: nn.functional.sigmoid is deprecated. Use torch.sigmoid instead.\n",
      "  warnings.warn(\"nn.functional.sigmoid is deprecated. Use torch.sigmoid instead.\")\n"
     ]
    },
    {
     "name": "stdout",
     "output_type": "stream",
     "text": [
      "Train Epoch : 1 [6400/60000(11%)]\tTrain Loss : 2.285661220550537\n",
      "Train Epoch : 1 [12800/60000(21%)]\tTrain Loss : 2.3331708908081055\n",
      "Train Epoch : 1 [19200/60000(32%)]\tTrain Loss : 2.2917094230651855\n",
      "Train Epoch : 1 [25600/60000(43%)]\tTrain Loss : 2.343151569366455\n",
      "Train Epoch : 1 [32000/60000(53%)]\tTrain Loss : 2.252929449081421\n",
      "Train Epoch : 1 [38400/60000(64%)]\tTrain Loss : 2.253542423248291\n",
      "Train Epoch : 1 [44800/60000(75%)]\tTrain Loss : 2.2403697967529297\n",
      "Train Epoch : 1 [51200/60000(85%)]\tTrain Loss : 2.270334243774414\n",
      "Train Epoch : 1 [57600/60000(96%)]\tTrain Loss : 2.3215575218200684\n",
      "\n",
      "[EPOCH:1] \tTest Loss : 0.0713, \tTest Accuracy : 23.26\n",
      "\n",
      "Train Epoch : 2 [0/60000(0%)]\tTrain Loss : 2.220335006713867\n",
      "Train Epoch : 2 [6400/60000(11%)]\tTrain Loss : 2.2293262481689453\n",
      "Train Epoch : 2 [12800/60000(21%)]\tTrain Loss : 2.231358766555786\n",
      "Train Epoch : 2 [19200/60000(32%)]\tTrain Loss : 2.2551894187927246\n",
      "Train Epoch : 2 [25600/60000(43%)]\tTrain Loss : 2.2822413444519043\n",
      "Train Epoch : 2 [32000/60000(53%)]\tTrain Loss : 2.248800754547119\n",
      "Train Epoch : 2 [38400/60000(64%)]\tTrain Loss : 2.215554714202881\n",
      "Train Epoch : 2 [44800/60000(75%)]\tTrain Loss : 2.1405954360961914\n",
      "Train Epoch : 2 [51200/60000(85%)]\tTrain Loss : 2.202216386795044\n",
      "Train Epoch : 2 [57600/60000(96%)]\tTrain Loss : 2.1450414657592773\n",
      "\n",
      "[EPOCH:2] \tTest Loss : 0.0628, \tTest Accuracy : 39.23\n",
      "\n",
      "Train Epoch : 3 [0/60000(0%)]\tTrain Loss : 2.157956600189209\n",
      "Train Epoch : 3 [6400/60000(11%)]\tTrain Loss : 2.0786280632019043\n",
      "Train Epoch : 3 [12800/60000(21%)]\tTrain Loss : 1.9248192310333252\n",
      "Train Epoch : 3 [19200/60000(32%)]\tTrain Loss : 1.8854916095733643\n",
      "Train Epoch : 3 [25600/60000(43%)]\tTrain Loss : 1.7993496656417847\n",
      "Train Epoch : 3 [32000/60000(53%)]\tTrain Loss : 1.716123342514038\n",
      "Train Epoch : 3 [38400/60000(64%)]\tTrain Loss : 1.627023458480835\n",
      "Train Epoch : 3 [44800/60000(75%)]\tTrain Loss : 1.3734482526779175\n",
      "Train Epoch : 3 [51200/60000(85%)]\tTrain Loss : 1.4854745864868164\n",
      "Train Epoch : 3 [57600/60000(96%)]\tTrain Loss : 1.3719900846481323\n",
      "\n",
      "[EPOCH:3] \tTest Loss : 0.0384, \tTest Accuracy : 61.30\n",
      "\n",
      "Train Epoch : 4 [0/60000(0%)]\tTrain Loss : 1.286867380142212\n",
      "Train Epoch : 4 [6400/60000(11%)]\tTrain Loss : 1.360027551651001\n",
      "Train Epoch : 4 [12800/60000(21%)]\tTrain Loss : 1.2874997854232788\n",
      "Train Epoch : 4 [19200/60000(32%)]\tTrain Loss : 1.1588364839553833\n",
      "Train Epoch : 4 [25600/60000(43%)]\tTrain Loss : 1.3402044773101807\n",
      "Train Epoch : 4 [32000/60000(53%)]\tTrain Loss : 1.5307108163833618\n",
      "Train Epoch : 4 [38400/60000(64%)]\tTrain Loss : 1.2404462099075317\n",
      "Train Epoch : 4 [44800/60000(75%)]\tTrain Loss : 0.8632128238677979\n",
      "Train Epoch : 4 [51200/60000(85%)]\tTrain Loss : 1.2135486602783203\n",
      "Train Epoch : 4 [57600/60000(96%)]\tTrain Loss : 1.4145424365997314\n",
      "\n",
      "[EPOCH:4] \tTest Loss : 0.0279, \tTest Accuracy : 70.70\n",
      "\n",
      "Train Epoch : 5 [0/60000(0%)]\tTrain Loss : 1.3390246629714966\n",
      "Train Epoch : 5 [6400/60000(11%)]\tTrain Loss : 0.8923209309577942\n",
      "Train Epoch : 5 [12800/60000(21%)]\tTrain Loss : 1.068649172782898\n",
      "Train Epoch : 5 [19200/60000(32%)]\tTrain Loss : 0.9902384877204895\n",
      "Train Epoch : 5 [25600/60000(43%)]\tTrain Loss : 0.9483750462532043\n",
      "Train Epoch : 5 [32000/60000(53%)]\tTrain Loss : 1.0829511880874634\n",
      "Train Epoch : 5 [38400/60000(64%)]\tTrain Loss : 0.7089347243309021\n",
      "Train Epoch : 5 [44800/60000(75%)]\tTrain Loss : 1.030726671218872\n",
      "Train Epoch : 5 [51200/60000(85%)]\tTrain Loss : 0.8046181797981262\n",
      "Train Epoch : 5 [57600/60000(96%)]\tTrain Loss : 0.8406781554222107\n",
      "\n",
      "[EPOCH:5] \tTest Loss : 0.0238, \tTest Accuracy : 75.68\n",
      "\n",
      "Train Epoch : 6 [0/60000(0%)]\tTrain Loss : 0.7865604758262634\n",
      "Train Epoch : 6 [6400/60000(11%)]\tTrain Loss : 0.760202169418335\n",
      "Train Epoch : 6 [12800/60000(21%)]\tTrain Loss : 0.6872736215591431\n",
      "Train Epoch : 6 [19200/60000(32%)]\tTrain Loss : 0.7610718607902527\n",
      "Train Epoch : 6 [25600/60000(43%)]\tTrain Loss : 0.6337981224060059\n",
      "Train Epoch : 6 [32000/60000(53%)]\tTrain Loss : 0.8355932831764221\n",
      "Train Epoch : 6 [38400/60000(64%)]\tTrain Loss : 0.5515458583831787\n",
      "Train Epoch : 6 [44800/60000(75%)]\tTrain Loss : 0.6413047909736633\n",
      "Train Epoch : 6 [51200/60000(85%)]\tTrain Loss : 0.9111487865447998\n",
      "Train Epoch : 6 [57600/60000(96%)]\tTrain Loss : 0.7548802495002747\n",
      "\n",
      "[EPOCH:6] \tTest Loss : 0.0208, \tTest Accuracy : 80.06\n",
      "\n",
      "Train Epoch : 7 [0/60000(0%)]\tTrain Loss : 0.8008296489715576\n",
      "Train Epoch : 7 [6400/60000(11%)]\tTrain Loss : 0.7577049136161804\n",
      "Train Epoch : 7 [12800/60000(21%)]\tTrain Loss : 0.8227599263191223\n",
      "Train Epoch : 7 [19200/60000(32%)]\tTrain Loss : 0.7712084650993347\n",
      "Train Epoch : 7 [25600/60000(43%)]\tTrain Loss : 0.7115436792373657\n",
      "Train Epoch : 7 [32000/60000(53%)]\tTrain Loss : 0.6831896901130676\n",
      "Train Epoch : 7 [38400/60000(64%)]\tTrain Loss : 0.5883798003196716\n",
      "Train Epoch : 7 [44800/60000(75%)]\tTrain Loss : 0.8042970299720764\n",
      "Train Epoch : 7 [51200/60000(85%)]\tTrain Loss : 0.8122982978820801\n",
      "Train Epoch : 7 [57600/60000(96%)]\tTrain Loss : 0.7324202060699463\n",
      "\n",
      "[EPOCH:7] \tTest Loss : 0.0183, \tTest Accuracy : 82.57\n",
      "\n",
      "Train Epoch : 8 [0/60000(0%)]\tTrain Loss : 0.512515127658844\n",
      "Train Epoch : 8 [6400/60000(11%)]\tTrain Loss : 0.6530383229255676\n",
      "Train Epoch : 8 [12800/60000(21%)]\tTrain Loss : 0.8402262926101685\n",
      "Train Epoch : 8 [19200/60000(32%)]\tTrain Loss : 0.48681768774986267\n",
      "Train Epoch : 8 [25600/60000(43%)]\tTrain Loss : 0.7624734044075012\n",
      "Train Epoch : 8 [32000/60000(53%)]\tTrain Loss : 0.6694148778915405\n",
      "Train Epoch : 8 [38400/60000(64%)]\tTrain Loss : 0.6453223824501038\n",
      "Train Epoch : 8 [44800/60000(75%)]\tTrain Loss : 0.6228823065757751\n",
      "Train Epoch : 8 [51200/60000(85%)]\tTrain Loss : 0.7396553754806519\n",
      "Train Epoch : 8 [57600/60000(96%)]\tTrain Loss : 0.6777415871620178\n",
      "\n",
      "[EPOCH:8] \tTest Loss : 0.0166, \tTest Accuracy : 84.12\n",
      "\n",
      "Train Epoch : 9 [0/60000(0%)]\tTrain Loss : 0.48387014865875244\n",
      "Train Epoch : 9 [6400/60000(11%)]\tTrain Loss : 0.7865060567855835\n",
      "Train Epoch : 9 [12800/60000(21%)]\tTrain Loss : 0.7054024338722229\n",
      "Train Epoch : 9 [19200/60000(32%)]\tTrain Loss : 0.5557440519332886\n",
      "Train Epoch : 9 [25600/60000(43%)]\tTrain Loss : 0.6530855298042297\n",
      "Train Epoch : 9 [32000/60000(53%)]\tTrain Loss : 0.6794194579124451\n",
      "Train Epoch : 9 [38400/60000(64%)]\tTrain Loss : 0.4600388705730438\n",
      "Train Epoch : 9 [44800/60000(75%)]\tTrain Loss : 0.4287991523742676\n",
      "Train Epoch : 9 [51200/60000(85%)]\tTrain Loss : 0.8659771084785461\n",
      "Train Epoch : 9 [57600/60000(96%)]\tTrain Loss : 1.1913011074066162\n",
      "\n",
      "[EPOCH:9] \tTest Loss : 0.0151, \tTest Accuracy : 85.70\n",
      "\n",
      "Train Epoch : 10 [0/60000(0%)]\tTrain Loss : 0.6642987132072449\n",
      "Train Epoch : 10 [6400/60000(11%)]\tTrain Loss : 0.7701013088226318\n",
      "Train Epoch : 10 [12800/60000(21%)]\tTrain Loss : 0.7992130517959595\n",
      "Train Epoch : 10 [19200/60000(32%)]\tTrain Loss : 0.7886269092559814\n",
      "Train Epoch : 10 [25600/60000(43%)]\tTrain Loss : 0.5929818749427795\n",
      "Train Epoch : 10 [32000/60000(53%)]\tTrain Loss : 0.6910267472267151\n",
      "Train Epoch : 10 [38400/60000(64%)]\tTrain Loss : 0.6656954884529114\n",
      "Train Epoch : 10 [44800/60000(75%)]\tTrain Loss : 1.0206263065338135\n",
      "Train Epoch : 10 [51200/60000(85%)]\tTrain Loss : 0.696770191192627\n",
      "Train Epoch : 10 [57600/60000(96%)]\tTrain Loss : 0.6373939514160156\n",
      "\n",
      "[EPOCH:10] \tTest Loss : 0.0141, \tTest Accuracy : 86.44\n",
      "\n"
     ]
    }
   ],
   "source": [
    "# MLP 학습을 실행하면서 Train, Test set의 Loss 및 Test set accuracy 확인하기\n",
    "for Epoch in range(1, EPOCHS+1):\n",
    "    train(model, train_loader, optimizer, log_interval=200, epoch = Epoch)\n",
    "    test_loss, test_accuracy = evaluate(model, test_loader)\n",
    "    print(f\"\\n[EPOCH:{Epoch}] \\tTest Loss : {test_loss:.4f}, \\tTest Accuracy : {test_accuracy:.2f}\\n\")"
   ],
   "metadata": {
    "collapsed": false,
    "pycharm": {
     "name": "#%%\n"
    }
   }
  }
 ],
 "metadata": {
  "kernelspec": {
   "display_name": "Python 3",
   "language": "python",
   "name": "python3"
  },
  "language_info": {
   "codemirror_mode": {
    "name": "ipython",
    "version": 2
   },
   "file_extension": ".py",
   "mimetype": "text/x-python",
   "name": "python",
   "nbconvert_exporter": "python",
   "pygments_lexer": "ipython2",
   "version": "2.7.6"
  }
 },
 "nbformat": 4,
 "nbformat_minor": 0
}