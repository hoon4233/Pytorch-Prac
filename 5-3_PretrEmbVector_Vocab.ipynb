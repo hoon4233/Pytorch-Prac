{
 "cells": [
  {
   "cell_type": "code",
   "execution_count": 1,
   "metadata": {
    "collapsed": true
   },
   "outputs": [],
   "source": [
    "import torch\n",
    "from torchtext.legacy import data\n",
    "from torchtext.legacy import datasets\n",
    "\n",
    "TEXT = data.Field(batch_first=True,\n",
    "                  fix_length=500,\n",
    "                  tokenize=str.split,\n",
    "                  pad_first=True,\n",
    "                  pad_token='[PAD]',\n",
    "                  unk_token='[UNK]')\n",
    "LABEL = data.LabelField(dtype=torch.float)\n",
    "train_data, test_data = datasets.IMDB.splits(text_field=TEXT, label_field=LABEL)\n",
    "\n",
    "# batch_first == batch size를 data shape axis의 가장 앞으로 설정\n",
    "# fix_length == sentence의 길이를 미리 제한하는 옵션\n",
    "# tokenize == tokenize를 설정하는 옵션, 여기서는 파이썬의 string.split (그냥 띄어쓰기로 짜름)\n",
    "# pad_first == fix_lenght 대비 짧은 문장의 경우 padding을 앞에서 줄 것인지에 대한 옵션\n",
    "# pad_token == padding을 할 때 사용할 token\n",
    "# unk_token == token dict에 없는 token이 나올 경우 token을 표현하는 특수 token\n",
    "# dtype == 가져올 데이터에 대한 type 설정 옵션"
   ]
  },
  {
   "cell_type": "code",
   "execution_count": 2,
   "outputs": [
    {
     "name": "stdout",
     "output_type": "stream",
     "text": [
      "Train Data Length : 25000\n",
      "Test Data Length : 25000\n",
      "{'text': <torchtext.legacy.data.field.Field object at 0x10d7790a0>, 'label': <torchtext.legacy.data.field.LabelField object at 0x10d779100>}\n",
      "--- Data Sample ---\n",
      "Input : \n",
      "Bizarre horror movie filled with famous faces but stolen by Cristina Raines (later of TV's \"Flamingo Road\") as a pretty but somewhat unstable model with a gummy smile who is slated to pay for her attempted suicides by guarding the Gateway to Hell! The scenes with Raines modeling are very well captured, the mood music is perfect, Deborah Raffin is charming as Cristina's pal, but when Raines moves into a creepy Brooklyn Heights brownstone (inhabited by a blind priest on the top floor), things really start cooking. The neighbors, including a fantastically wicked Burgess Meredith and kinky couple Sylvia Miles & Beverly D'Angelo, are a diabolical lot, and Eli Wallach is great fun as a wily police detective. The movie is nearly a cross-pollination of \"Rosemary's Baby\" and \"The Exorcist\"--but what a combination! Based on the best-seller by Jeffrey Konvitz, \"The Sentinel\" is entertainingly spooky, full of shocks brought off well by director Michael Winner, who mounts a thoughtfully downbeat ending with skill. ***1/2 from **** \n",
      "\n",
      "Label : pos\n",
      "['Bizarre', 'horror', 'movie', 'filled', 'with', 'famous', 'faces', 'but', 'stolen', 'by', 'Cristina', 'Raines', '(later', 'of', \"TV's\", '\"Flamingo', 'Road\")', 'as', 'a', 'pretty', 'but', 'somewhat', 'unstable', 'model', 'with', 'a', 'gummy', 'smile', 'who', 'is', 'slated', 'to', 'pay', 'for', 'her', 'attempted', 'suicides', 'by', 'guarding', 'the', 'Gateway', 'to', 'Hell!', 'The', 'scenes', 'with', 'Raines', 'modeling', 'are', 'very', 'well', 'captured,', 'the', 'mood', 'music', 'is', 'perfect,', 'Deborah', 'Raffin', 'is', 'charming', 'as', \"Cristina's\", 'pal,', 'but', 'when', 'Raines', 'moves', 'into', 'a', 'creepy', 'Brooklyn', 'Heights', 'brownstone', '(inhabited', 'by', 'a', 'blind', 'priest', 'on', 'the', 'top', 'floor),', 'things', 'really', 'start', 'cooking.', 'The', 'neighbors,', 'including', 'a', 'fantastically', 'wicked', 'Burgess', 'Meredith', 'and', 'kinky', 'couple', 'Sylvia', 'Miles', '&', 'Beverly', \"D'Angelo,\", 'are', 'a', 'diabolical', 'lot,', 'and', 'Eli', 'Wallach', 'is', 'great', 'fun', 'as', 'a', 'wily', 'police', 'detective.', 'The', 'movie', 'is', 'nearly', 'a', 'cross-pollination', 'of', '\"Rosemary\\'s', 'Baby\"', 'and', '\"The', 'Exorcist\"--but', 'what', 'a', 'combination!', 'Based', 'on', 'the', 'best-seller', 'by', 'Jeffrey', 'Konvitz,', '\"The', 'Sentinel\"', 'is', 'entertainingly', 'spooky,', 'full', 'of', 'shocks', 'brought', 'off', 'well', 'by', 'director', 'Michael', 'Winner,', 'who', 'mounts', 'a', 'thoughtfully', 'downbeat', 'ending', 'with', 'skill.', '***1/2', 'from', '****'] \n",
      "\n"
     ]
    }
   ],
   "source": [
    "print(f\"Train Data Length : {len(train_data.examples)}\")\n",
    "print(f\"Test Data Length : {len(test_data.examples)}\")\n",
    "\n",
    "print(train_data.fields)\n",
    "\n",
    "print('--- Data Sample ---')\n",
    "print('Input : ')\n",
    "print(' '.join(vars(train_data.examples[1])['text']),'\\n')\n",
    "print(f'Label : {vars(train_data.examples[1])[\"label\"]}')\n",
    "print(vars(train_data.examples[1])['text'],'\\n')"
   ],
   "metadata": {
    "collapsed": false,
    "pycharm": {
     "name": "#%%\n"
    }
   }
  },
  {
   "cell_type": "code",
   "execution_count": 3,
   "outputs": [],
   "source": [
    "import re\n",
    "\n",
    "def PreProcessingText(input_sentence) :\n",
    "    input_sentence = input_sentence.lower()\n",
    "    input_sentence = re.sub('<[^>]*>', repl=' ', string=input_sentence) # <br /> 처리\n",
    "    input_sentence = re.sub('[!\"#$%&\\()*+,-./:;<=>?@[\\\\]^_`{|}~]', repl= ' ', string = input_sentence) # 특수문자 처리 (\"'\" 제외)\n",
    "    input_sentence = re.sub('\\s+', repl= ' ', string = input_sentence) # 연속된 띄어쓰기 처리\n",
    "    if input_sentence:\n",
    "        return input_sentence\n",
    "\n",
    "for example in train_data.examples :\n",
    "    vars(example)['text'] = PreProcessingText(' '.join(vars(example)['text'])).split()\n",
    "\n",
    "for example in test_data.examples :\n",
    "    vars(example)['text'] = PreProcessingText(' '.join(vars(example)['text'])).split()"
   ],
   "metadata": {
    "collapsed": false,
    "pycharm": {
     "name": "#%%\n"
    }
   }
  },
  {
   "cell_type": "code",
   "execution_count": 4,
   "outputs": [
    {
     "name": "stderr",
     "output_type": "stream",
     "text": [
      ".vector_cache/glove.6B.zip: 862MB [02:48, 5.11MB/s]                               \n",
      "100%|█████████▉| 399999/400000 [00:24<00:00, 16132.83it/s]\n"
     ]
    }
   ],
   "source": [
    "# pre_trained\n",
    "TEXT.build_vocab(train_data, min_freq=2, max_size=None, vectors = 'glove.6B.300d')\n",
    "# min_freq == vocab에 해당하는 token에 최소한으로 등자하는 횟수에 제한을 둔다.\n",
    "# max_size == vocab size 에 제한을 둔다\n",
    "# vecotrs == pre-trained vector를 가져와 vocab을 세팅한다.\n",
    "LABEL.build_vocab(train_data)"
   ],
   "metadata": {
    "collapsed": false,
    "pycharm": {
     "name": "#%%\n"
    }
   }
  },
  {
   "cell_type": "code",
   "execution_count": 5,
   "outputs": [
    {
     "name": "stdout",
     "output_type": "stream",
     "text": [
      "Vocab size : 51956\n",
      "Vocab Examples :\n",
      "\t [UNK] 0\n",
      "\t [PAD] 1\n",
      "\t the 2\n",
      "\t and 3\n",
      "\t a 4\n",
      "\t of 5\n",
      "\t to 6\n",
      "\t is 7\n",
      "\t in 8\n",
      "\t it 9\n",
      "---------------------\n",
      "Label Size : 2\n",
      "Label Examples : \n",
      "\t neg 0\n",
      "\t pos 1\n"
     ]
    }
   ],
   "source": [
    "print(f\"Vocab size : {len(TEXT.vocab)}\")\n",
    "print('Vocab Examples :')\n",
    "for idx, (k, v) in enumerate(TEXT.vocab.stoi.items()):\n",
    "    if idx >= 10 :\n",
    "        break\n",
    "    print('\\t', k, v)\n",
    "print('---------------------')\n",
    "\n",
    "print(f'Label Size : {len(LABEL.vocab)}')\n",
    "print('Label Examples : ')\n",
    "for idx, (k, v) in enumerate(LABEL.vocab.stoi.items()):\n",
    "    print('\\t', k, v)"
   ],
   "metadata": {
    "collapsed": false,
    "pycharm": {
     "name": "#%%\n"
    }
   }
  },
  {
   "cell_type": "code",
   "execution_count": 6,
   "outputs": [],
   "source": [
    "import random\n",
    "train_data, valid_data = train_data.split(random_state=random.seed(0),\n",
    "                                          split_ratio=0.8)\n",
    "DEVICE = torch.device('cuda' if torch.cuda.is_available() else 'cpu')\n",
    "train_iterator, valid_iterator, test_iterator = data.BucketIterator.splits(\n",
    "    datasets=(train_data, valid_data, test_data), batch_size=30, device=DEVICE)"
   ],
   "metadata": {
    "collapsed": false,
    "pycharm": {
     "name": "#%%\n"
    }
   }
  }
 ],
 "metadata": {
  "kernelspec": {
   "display_name": "Python 3",
   "language": "python",
   "name": "python3"
  },
  "language_info": {
   "codemirror_mode": {
    "name": "ipython",
    "version": 2
   },
   "file_extension": ".py",
   "mimetype": "text/x-python",
   "name": "python",
   "nbconvert_exporter": "python",
   "pygments_lexer": "ipython2",
   "version": "2.7.6"
  }
 },
 "nbformat": 4,
 "nbformat_minor": 0
}