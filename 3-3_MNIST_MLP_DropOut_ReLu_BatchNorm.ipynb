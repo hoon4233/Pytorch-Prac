{
 "cells": [
  {
   "cell_type": "code",
   "metadata": {
    "collapsed": true,
    "pycharm": {
     "name": "#%%\n"
    }
   },
   "source": [
    "# 모듈 import\n",
    "import numpy as np\n",
    "import matplotlib.pyplot as plt\n",
    "import torch\n",
    "import torch.nn as nn\n",
    "import torch.nn.functional as F\n",
    "from torchvision import transforms, datasets\n"
   ],
   "execution_count": 1,
   "outputs": []
  },
  {
   "cell_type": "code",
   "execution_count": 2,
   "outputs": [
    {
     "name": "stdout",
     "output_type": "stream",
     "text": [
      "Using PyTorch version : 1.8.1, Device : cpu\n"
     ]
    }
   ],
   "source": [
    "# 딥러닝 모델을 설계할 때 활용하는 장비 확인하기\n",
    "if torch.cuda.is_available() :\n",
    "    DEVICE = torch.device('cuda')\n",
    "else :\n",
    "    DEVICE = torch.device('cpu')\n",
    "print(f\"Using PyTorch version : {torch.__version__}, Device : {DEVICE}\")\n",
    "\n",
    "BATCH_SIZE = 32 # mini_batch size를 의미\n",
    "EPOCHS = 10"
   ],
   "metadata": {
    "collapsed": false,
    "pycharm": {
     "name": "#%%\n"
    }
   }
  },
  {
   "cell_type": "code",
   "execution_count": 3,
   "outputs": [],
   "source": [
    "# MNIST 데이터 다운로드 (train, test set 분리)\n",
    "\n",
    "\n",
    "train_dataset = datasets.MNIST(root=\"../data/MNIST\",\n",
    "                               train = True,\n",
    "                               download=True,\n",
    "                               transform=transforms.ToTensor())\n",
    "test_dataset = datasets.MNIST(root=\"../data/MNIST\",\n",
    "                               train = False,\n",
    "                               transform=transforms.ToTensor())\n",
    "# train == 학습용 데이터인지, 아닌지 설정\n",
    "# transform.ToTensor() == MNIST는 이미지 데이터 -> MLP의 input으로 사용하기 위해 tensro 형태로 변경하고\n",
    "#               한 픽셀의 값(0~255)을 0~1 범위에서 정규화 시켜줌\n",
    "\n",
    "\n",
    "train_loader = torch.utils.data.DataLoader(dataset = train_dataset,\n",
    "                                           batch_size = BATCH_SIZE,\n",
    "                                           shuffle = True)\n",
    "test_loader = torch.utils.data.DataLoader(dataset = test_dataset,\n",
    "                                          batch_size = BATCH_SIZE,\n",
    "                                          shuffle = False)\n",
    "# 데이터셋을 mini batch 단위로 분리\n",
    "# shuffle = True, 데이터의 순서를 섞어 label 정보의 순서를 암기해 학습 하는 것을 방지\n",
    "# 즉 특정 label에 매치된 이미지 데이터의 특징을 보고 학습하는 것이 아니라 특정 이미지 데이터에 매칭된 label 값만을 집중적으로 학습하는\n",
    "# 잘못된 방향으로 학습하는 것을 방지하기 위해 데이터 순서를 섞는다.\n"
   ],
   "metadata": {
    "collapsed": false,
    "pycharm": {
     "name": "#%%\n"
    }
   }
  },
  {
   "cell_type": "code",
   "execution_count": 4,
   "outputs": [
    {
     "name": "stdout",
     "output_type": "stream",
     "text": [
      "X_train : torch.Size([32, 1, 28, 28]), type : torch.FloatTensor\n",
      "y_train : torch.Size([32]), type : torch.LongTensor\n"
     ]
    }
   ],
   "source": [
    "# 데이터 확인하기 (1)\n",
    "for (X_train, y_train) in train_loader :\n",
    "    print(f\"X_train : {X_train.size()}, type : {X_train.type()}\")\n",
    "    print(f\"y_train : {y_train.size()}, type : {y_train.type()}\")\n",
    "    break\n",
    "\n",
    "# (batch_size, channel, width, height)"
   ],
   "metadata": {
    "collapsed": false,
    "pycharm": {
     "name": "#%%\n"
    }
   }
  },
  {
   "cell_type": "code",
   "execution_count": 5,
   "outputs": [
    {
     "data": {
      "text/plain": "<Figure size 720x72 with 10 Axes>",
      "image/png": "[encoded data removed]"
     },
     "metadata": {
      "needs_background": "light"
     },
     "output_type": "display_data"
    }
   ],
   "source": [
    "# 데이터 확인하기 (2)\n",
    "pltsize = 1\n",
    "plt.figure(figsize=(10*pltsize, pltsize))\n",
    "for i in range(10):\n",
    "    plt.subplot(1,10,i+1)\n",
    "    plt.axis('off')\n",
    "    plt.imshow(X_train[i,:,:,:].numpy().reshape(28,28), cmap=\"gray_r\")\n",
    "    plt.title(f'Class : {str(y_train[i].item())}')"
   ],
   "metadata": {
    "collapsed": false,
    "pycharm": {
     "name": "#%%\n"
    }
   }
  },
  {
   "cell_type": "code",
   "execution_count": 6,
   "outputs": [],
   "source": [
    "# MLP 모델 설계하기\n",
    "class Net(nn.Module) :\n",
    "    def __init__(self):\n",
    "        super(Net, self).__init__()\n",
    "        self.fc1 = nn.Linear(28*28, 512) # (input의 차원수, layer의 node 수)\n",
    "        self.fc2 = nn.Linear(512, 256)\n",
    "        self.fc3 = nn.Linear(256, 10)\n",
    "        self.dropout_prob = 0.5\n",
    "        self.batch_norm1 = nn.BatchNorm1d(512)\n",
    "        self.batch_norm2 = nn.BatchNorm1d(256)\n",
    "\n",
    "    def forward(self,x):\n",
    "        x = x.view(-1, 28*28) # 2차원 이미지 데이터를 1차원으로 펼친다 -> flatten\n",
    "        x = self.fc1(x)\n",
    "        x = self.batch_norm1(x)\n",
    "        x = F.relu(x)\n",
    "        x = F.dropout(x, training = self.training, p = self.dropout_prob)\n",
    "        x = self.fc2(x)\n",
    "        x = self.batch_norm2(x)\n",
    "        x = F.relu(x)\n",
    "        x = F.dropout(x, training = self.training, p = self.dropout_prob)\n",
    "        x = self.fc3(x)\n",
    "        x = F.log_softmax(x, dim = 1) # 그냥 softmax가 아닌 log_softmax를 사용하는 이유는 gradient 원활하게 계산하려고\n",
    "        return x"
   ],
   "metadata": {
    "collapsed": false,
    "pycharm": {
     "name": "#%%\n"
    }
   }
  },
  {
   "cell_type": "code",
   "execution_count": 7,
   "outputs": [
    {
     "name": "stdout",
     "output_type": "stream",
     "text": [
      "Net(\n",
      "  (fc1): Linear(in_features=784, out_features=512, bias=True)\n",
      "  (fc2): Linear(in_features=512, out_features=256, bias=True)\n",
      "  (fc3): Linear(in_features=256, out_features=10, bias=True)\n",
      "  (batch_norm1): BatchNorm1d(512, eps=1e-05, momentum=0.1, affine=True, track_running_stats=True)\n",
      "  (batch_norm2): BatchNorm1d(256, eps=1e-05, momentum=0.1, affine=True, track_running_stats=True)\n",
      ")\n"
     ]
    }
   ],
   "source": [
    "# Optimizer, Objective Function 설정하기\n",
    "model = Net().to(DEVICE)\n",
    "optimizer = torch.optim.SGD(model.parameters(), lr = 0.01, momentum=0.5)\n",
    "criterion = nn.CrossEntropyLoss()\n",
    "print(model)"
   ],
   "metadata": {
    "collapsed": false,
    "pycharm": {
     "name": "#%%\n"
    }
   }
  },
  {
   "cell_type": "code",
   "execution_count": 8,
   "outputs": [],
   "source": [
    "# MLP 모델 학습을 진행하면서 학습 데이터에 대한 모델 성능을 확인하는 함수 정의\n",
    "def train(model, train_loader, optimizer, log_interval, epoch) :\n",
    "    model.train() # 모델을 학습상태로 만듦\n",
    "    for batch_idx, (image, label) in enumerate(train_loader):\n",
    "        image = image.to(DEVICE) # 데이터를 기존에 정의한 장비에 할당한다.\n",
    "        label = label.to(DEVICE) # label을 기존에 정의한 장비에 할당한다.\n",
    "        optimizer.zero_grad() # 기존에 정의한 장비에 데이터를 할당할 경우, 과거에 사용한 데이터를 바탕으로 계산된 loss의 gradient 값이 optimizer에 할당돼 있으므로 optimizer 초기화\n",
    "        output = model(image)\n",
    "        loss = criterion(output, label)\n",
    "        loss.backward() # loss 값을 바탕으로 BP 해서 나온 gradient를 각 파라미터에 할당\n",
    "        optimizer.step() # 각 파라미터에 할당된 gradient 값을 이용해 파라미터 값 업데이트\n",
    "\n",
    "        if batch_idx % log_interval == 0 :\n",
    "            print(f\"Train Epoch : {epoch} [{batch_idx*len(image)}/\"\n",
    "                  f\"{len(train_loader.dataset)}({100.*batch_idx/len(train_loader):.0f}%)]\"\n",
    "                  f\"\\tTrain Loss : {loss.item()}\")"
   ],
   "metadata": {
    "collapsed": false,
    "pycharm": {
     "name": "#%%\n"
    }
   }
  },
  {
   "cell_type": "code",
   "execution_count": 9,
   "outputs": [],
   "source": [
    "# 학습되는 과정 속에서 검증 데이터에 대한 모델의 성능을 확인하는 함수 정의\n",
    "def evaluate(model, test_loader):\n",
    "    model.eval() # 모델을 평가 상태로 지정\n",
    "    test_loss = 0 # loss 값\n",
    "    correct = 0 # 모델이 올바른 class로 분류한 경우를 count\n",
    "\n",
    "    with torch.no_grad() : # gradient를 통해 parameter가 업데이트 하는 것을 방지하기 위해\n",
    "        for image, label in test_loader :\n",
    "            image = image.to(DEVICE)\n",
    "            label = label.to(DEVICE)\n",
    "            output = model(image)\n",
    "            test_loss += criterion(output, label).item()\n",
    "            prediction = output.max(1, keepdim = True)[1] # 모델의 ouput은 크기가 10인 벡터이다. 따라서 가장 큰 값이 들어있는 위치를 찾아야 한다.\n",
    "            correct += prediction.eq(label.view_as(prediction)).sum().item()\n",
    "\n",
    "            # tensor.max ( return (max, max_index) )\n",
    "            # view_as == 인자로 들어온 tensor로 모양 변경 (메모리에 tensor를 직접 변경 하는게 아님)\n",
    "            # eq == tensor를 비교해 같은 위치에 같은 값이 있으면 해당 위치는 True, 아니면 False인 tensor 반환\n",
    "            # item == tensor를 python single value로 변환 (tensor의 차원은 상관 없으나 값이 1개만 있어야 한다.)\n",
    "\n",
    "        test_loss /= len(test_loader.dataset)\n",
    "        test_accuracy = 100. * correct / len(test_loader.dataset)\n",
    "        return test_loss, test_accuracy"
   ],
   "metadata": {
    "collapsed": false,
    "pycharm": {
     "name": "#%%\n"
    }
   }
  },
  {
   "cell_type": "code",
   "execution_count": 10,
   "outputs": [
    {
     "name": "stdout",
     "output_type": "stream",
     "text": [
      "Train Epoch : 1 [0/60000(0%)]\tTrain Loss : 2.5151851177215576\n",
      "Train Epoch : 1 [6400/60000(11%)]\tTrain Loss : 0.7245064377784729\n",
      "Train Epoch : 1 [12800/60000(21%)]\tTrain Loss : 0.6665177941322327\n",
      "Train Epoch : 1 [19200/60000(32%)]\tTrain Loss : 0.2732936143875122\n",
      "Train Epoch : 1 [25600/60000(43%)]\tTrain Loss : 0.48628684878349304\n",
      "Train Epoch : 1 [32000/60000(53%)]\tTrain Loss : 0.5383332967758179\n",
      "Train Epoch : 1 [38400/60000(64%)]\tTrain Loss : 0.2824777066707611\n",
      "Train Epoch : 1 [44800/60000(75%)]\tTrain Loss : 0.35190215706825256\n",
      "Train Epoch : 1 [51200/60000(85%)]\tTrain Loss : 0.07644328474998474\n",
      "Train Epoch : 1 [57600/60000(96%)]\tTrain Loss : 0.6803075671195984\n",
      "\n",
      "[EPOCH:1] \tTest Loss : 0.0048, \tTest Accuracy : 95.43\n",
      "\n",
      "Train Epoch : 2 [0/60000(0%)]\tTrain Loss : 0.40234193205833435\n",
      "Train Epoch : 2 [6400/60000(11%)]\tTrain Loss : 0.4846718907356262\n",
      "Train Epoch : 2 [12800/60000(21%)]\tTrain Loss : 0.5627522468566895\n",
      "Train Epoch : 2 [19200/60000(32%)]\tTrain Loss : 0.3886028826236725\n",
      "Train Epoch : 2 [25600/60000(43%)]\tTrain Loss : 0.37974756956100464\n",
      "Train Epoch : 2 [32000/60000(53%)]\tTrain Loss : 0.12259947508573532\n",
      "Train Epoch : 2 [38400/60000(64%)]\tTrain Loss : 0.39964380860328674\n",
      "Train Epoch : 2 [44800/60000(75%)]\tTrain Loss : 0.1998443901538849\n",
      "Train Epoch : 2 [51200/60000(85%)]\tTrain Loss : 0.19175471365451813\n",
      "Train Epoch : 2 [57600/60000(96%)]\tTrain Loss : 0.13783754408359528\n",
      "\n",
      "[EPOCH:2] \tTest Loss : 0.0035, \tTest Accuracy : 96.55\n",
      "\n",
      "Train Epoch : 3 [0/60000(0%)]\tTrain Loss : 0.13888445496559143\n",
      "Train Epoch : 3 [6400/60000(11%)]\tTrain Loss : 0.1049191802740097\n",
      "Train Epoch : 3 [12800/60000(21%)]\tTrain Loss : 0.15749412775039673\n",
      "Train Epoch : 3 [19200/60000(32%)]\tTrain Loss : 0.16028808057308197\n",
      "Train Epoch : 3 [25600/60000(43%)]\tTrain Loss : 0.16867341101169586\n",
      "Train Epoch : 3 [32000/60000(53%)]\tTrain Loss : 0.40402644872665405\n",
      "Train Epoch : 3 [38400/60000(64%)]\tTrain Loss : 0.0764523521065712\n",
      "Train Epoch : 3 [44800/60000(75%)]\tTrain Loss : 0.07666610926389694\n",
      "Train Epoch : 3 [51200/60000(85%)]\tTrain Loss : 0.12463029474020004\n",
      "Train Epoch : 3 [57600/60000(96%)]\tTrain Loss : 0.16947534680366516\n",
      "\n",
      "[EPOCH:3] \tTest Loss : 0.0029, \tTest Accuracy : 97.05\n",
      "\n",
      "Train Epoch : 4 [0/60000(0%)]\tTrain Loss : 0.215213805437088\n",
      "Train Epoch : 4 [6400/60000(11%)]\tTrain Loss : 0.1753687560558319\n",
      "Train Epoch : 4 [12800/60000(21%)]\tTrain Loss : 0.12549273669719696\n",
      "Train Epoch : 4 [19200/60000(32%)]\tTrain Loss : 0.2478257417678833\n",
      "Train Epoch : 4 [25600/60000(43%)]\tTrain Loss : 0.04357319697737694\n",
      "Train Epoch : 4 [32000/60000(53%)]\tTrain Loss : 0.07975036650896072\n",
      "Train Epoch : 4 [38400/60000(64%)]\tTrain Loss : 0.2588300406932831\n",
      "Train Epoch : 4 [44800/60000(75%)]\tTrain Loss : 0.25931042432785034\n",
      "Train Epoch : 4 [51200/60000(85%)]\tTrain Loss : 0.13366879522800446\n",
      "Train Epoch : 4 [57600/60000(96%)]\tTrain Loss : 0.3383064866065979\n",
      "\n",
      "[EPOCH:4] \tTest Loss : 0.0028, \tTest Accuracy : 97.29\n",
      "\n",
      "Train Epoch : 5 [0/60000(0%)]\tTrain Loss : 0.2086026668548584\n",
      "Train Epoch : 5 [6400/60000(11%)]\tTrain Loss : 0.12495210766792297\n",
      "Train Epoch : 5 [12800/60000(21%)]\tTrain Loss : 0.2649862468242645\n",
      "Train Epoch : 5 [19200/60000(32%)]\tTrain Loss : 0.11531884223222733\n",
      "Train Epoch : 5 [25600/60000(43%)]\tTrain Loss : 0.12815016508102417\n",
      "Train Epoch : 5 [32000/60000(53%)]\tTrain Loss : 0.17684629559516907\n",
      "Train Epoch : 5 [38400/60000(64%)]\tTrain Loss : 0.19122393429279327\n",
      "Train Epoch : 5 [44800/60000(75%)]\tTrain Loss : 0.08691506832838058\n",
      "Train Epoch : 5 [51200/60000(85%)]\tTrain Loss : 0.024671781808137894\n",
      "Train Epoch : 5 [57600/60000(96%)]\tTrain Loss : 0.12436416745185852\n",
      "\n",
      "[EPOCH:5] \tTest Loss : 0.0025, \tTest Accuracy : 97.55\n",
      "\n",
      "Train Epoch : 6 [0/60000(0%)]\tTrain Loss : 0.032851338386535645\n",
      "Train Epoch : 6 [6400/60000(11%)]\tTrain Loss : 0.11045772582292557\n",
      "Train Epoch : 6 [12800/60000(21%)]\tTrain Loss : 0.07512494176626205\n",
      "Train Epoch : 6 [19200/60000(32%)]\tTrain Loss : 0.09153413027524948\n",
      "Train Epoch : 6 [25600/60000(43%)]\tTrain Loss : 0.10645122826099396\n",
      "Train Epoch : 6 [32000/60000(53%)]\tTrain Loss : 0.3442760407924652\n",
      "Train Epoch : 6 [38400/60000(64%)]\tTrain Loss : 0.06976067274808884\n",
      "Train Epoch : 6 [44800/60000(75%)]\tTrain Loss : 0.1176392063498497\n",
      "Train Epoch : 6 [51200/60000(85%)]\tTrain Loss : 0.10162527114152908\n",
      "Train Epoch : 6 [57600/60000(96%)]\tTrain Loss : 0.24750864505767822\n",
      "\n",
      "[EPOCH:6] \tTest Loss : 0.0024, \tTest Accuracy : 97.71\n",
      "\n",
      "Train Epoch : 7 [0/60000(0%)]\tTrain Loss : 0.14426209032535553\n",
      "Train Epoch : 7 [6400/60000(11%)]\tTrain Loss : 0.17897307872772217\n",
      "Train Epoch : 7 [12800/60000(21%)]\tTrain Loss : 0.10873926430940628\n",
      "Train Epoch : 7 [19200/60000(32%)]\tTrain Loss : 0.14685653150081635\n",
      "Train Epoch : 7 [25600/60000(43%)]\tTrain Loss : 0.23663438856601715\n",
      "Train Epoch : 7 [32000/60000(53%)]\tTrain Loss : 0.2165759950876236\n",
      "Train Epoch : 7 [38400/60000(64%)]\tTrain Loss : 0.054318495094776154\n",
      "Train Epoch : 7 [44800/60000(75%)]\tTrain Loss : 0.08882294595241547\n",
      "Train Epoch : 7 [51200/60000(85%)]\tTrain Loss : 0.07561785727739334\n",
      "Train Epoch : 7 [57600/60000(96%)]\tTrain Loss : 0.07386405766010284\n",
      "\n",
      "[EPOCH:7] \tTest Loss : 0.0022, \tTest Accuracy : 97.73\n",
      "\n",
      "Train Epoch : 8 [0/60000(0%)]\tTrain Loss : 0.2704085409641266\n",
      "Train Epoch : 8 [6400/60000(11%)]\tTrain Loss : 0.08880928158760071\n",
      "Train Epoch : 8 [12800/60000(21%)]\tTrain Loss : 0.1643536388874054\n",
      "Train Epoch : 8 [19200/60000(32%)]\tTrain Loss : 0.24259863793849945\n",
      "Train Epoch : 8 [25600/60000(43%)]\tTrain Loss : 0.1494711935520172\n",
      "Train Epoch : 8 [32000/60000(53%)]\tTrain Loss : 0.37998121976852417\n",
      "Train Epoch : 8 [38400/60000(64%)]\tTrain Loss : 0.22730889916419983\n",
      "Train Epoch : 8 [44800/60000(75%)]\tTrain Loss : 0.08899256587028503\n",
      "Train Epoch : 8 [51200/60000(85%)]\tTrain Loss : 0.10354849696159363\n",
      "Train Epoch : 8 [57600/60000(96%)]\tTrain Loss : 0.15557442605495453\n",
      "\n",
      "[EPOCH:8] \tTest Loss : 0.0022, \tTest Accuracy : 97.89\n",
      "\n",
      "Train Epoch : 9 [0/60000(0%)]\tTrain Loss : 0.13898368179798126\n",
      "Train Epoch : 9 [6400/60000(11%)]\tTrain Loss : 0.2532171607017517\n",
      "Train Epoch : 9 [12800/60000(21%)]\tTrain Loss : 0.18690575659275055\n",
      "Train Epoch : 9 [19200/60000(32%)]\tTrain Loss : 0.054865945130586624\n",
      "Train Epoch : 9 [25600/60000(43%)]\tTrain Loss : 0.07880629599094391\n",
      "Train Epoch : 9 [32000/60000(53%)]\tTrain Loss : 0.07976166903972626\n",
      "Train Epoch : 9 [38400/60000(64%)]\tTrain Loss : 0.2194797694683075\n",
      "Train Epoch : 9 [44800/60000(75%)]\tTrain Loss : 0.023968961089849472\n",
      "Train Epoch : 9 [51200/60000(85%)]\tTrain Loss : 0.12619216740131378\n",
      "Train Epoch : 9 [57600/60000(96%)]\tTrain Loss : 0.11475115269422531\n",
      "\n",
      "[EPOCH:9] \tTest Loss : 0.0021, \tTest Accuracy : 98.03\n",
      "\n",
      "Train Epoch : 10 [0/60000(0%)]\tTrain Loss : 0.16778402030467987\n",
      "Train Epoch : 10 [6400/60000(11%)]\tTrain Loss : 0.022493330761790276\n",
      "Train Epoch : 10 [12800/60000(21%)]\tTrain Loss : 0.053193576633930206\n",
      "Train Epoch : 10 [19200/60000(32%)]\tTrain Loss : 0.13336731493473053\n",
      "Train Epoch : 10 [25600/60000(43%)]\tTrain Loss : 0.011316067539155483\n",
      "Train Epoch : 10 [32000/60000(53%)]\tTrain Loss : 0.027398306876420975\n",
      "Train Epoch : 10 [38400/60000(64%)]\tTrain Loss : 0.02123238705098629\n",
      "Train Epoch : 10 [44800/60000(75%)]\tTrain Loss : 0.20484782755374908\n",
      "Train Epoch : 10 [51200/60000(85%)]\tTrain Loss : 0.10886356979608536\n",
      "Train Epoch : 10 [57600/60000(96%)]\tTrain Loss : 0.0890597552061081\n",
      "\n",
      "[EPOCH:10] \tTest Loss : 0.0020, \tTest Accuracy : 98.02\n",
      "\n"
     ]
    }
   ],
   "source": [
    "# MLP 학습을 실행하면서 Train, Test set의 Loss 및 Test set accuracy 확인하기\n",
    "for Epoch in range(1, EPOCHS+1):\n",
    "    train(model, train_loader, optimizer, log_interval=200, epoch = Epoch)\n",
    "    test_loss, test_accuracy = evaluate(model, test_loader)\n",
    "    print(f\"\\n[EPOCH:{Epoch}] \\tTest Loss : {test_loss:.4f}, \\tTest Accuracy : {test_accuracy:.2f}\\n\")"
   ],
   "metadata": {
    "collapsed": false,
    "pycharm": {
     "name": "#%%\n"
    }
   }
  }
 ],
 "metadata": {
  "kernelspec": {
   "display_name": "Python 3",
   "language": "python",
   "name": "python3"
  },
  "language_info": {
   "codemirror_mode": {
    "name": "ipython",
    "version": 2
   },
   "file_extension": ".py",
   "mimetype": "text/x-python",
   "name": "python",
   "nbconvert_exporter": "python",
   "pygments_lexer": "ipython2",
   "version": "2.7.6"
  }
 },
 "nbformat": 4,
 "nbformat_minor": 0
}