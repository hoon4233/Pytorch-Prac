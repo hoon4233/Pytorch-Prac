{
 "cells": [
  {
   "cell_type": "code",
   "metadata": {
    "collapsed": true,
    "pycharm": {
     "name": "#%%\n"
    }
   },
   "source": [
    "# 모듈 import\n",
    "import numpy as np\n",
    "import matplotlib.pyplot as plt\n",
    "import torch\n",
    "import torch.nn as nn\n",
    "import torch.nn.functional as F\n",
    "from torchvision import transforms, datasets\n"
   ],
   "execution_count": 1,
   "outputs": []
  },
  {
   "cell_type": "code",
   "execution_count": 2,
   "outputs": [
    {
     "name": "stdout",
     "output_type": "stream",
     "text": [
      "Using PyTorch version : 1.8.1, Device : cpu\n"
     ]
    }
   ],
   "source": [
    "# 딥러닝 모델을 설계할 때 활용하는 장비 확인하기\n",
    "if torch.cuda.is_available() :\n",
    "    DEVICE = torch.device('cuda')\n",
    "else :\n",
    "    DEVICE = torch.device('cpu')\n",
    "print(f\"Using PyTorch version : {torch.__version__}, Device : {DEVICE}\")\n",
    "\n",
    "BATCH_SIZE = 32 # mini_batch size를 의미\n",
    "EPOCHS = 10"
   ],
   "metadata": {
    "collapsed": false,
    "pycharm": {
     "name": "#%%\n"
    }
   }
  },
  {
   "cell_type": "code",
   "execution_count": 3,
   "outputs": [],
   "source": [
    "# MNIST 데이터 다운로드 (train, test set 분리)\n",
    "\n",
    "\n",
    "train_dataset = datasets.MNIST(root=\"../data/MNIST\",\n",
    "                               train = True,\n",
    "                               download=True,\n",
    "                               transform=transforms.ToTensor())\n",
    "test_dataset = datasets.MNIST(root=\"../data/MNIST\",\n",
    "                               train = False,\n",
    "                               transform=transforms.ToTensor())\n",
    "# train == 학습용 데이터인지, 아닌지 설정\n",
    "# transform.ToTensor() == MNIST는 이미지 데이터 -> MLP의 input으로 사용하기 위해 tensro 형태로 변경하고\n",
    "#               한 픽셀의 값(0~255)을 0~1 범위에서 정규화 시켜줌\n",
    "\n",
    "\n",
    "train_loader = torch.utils.data.DataLoader(dataset = train_dataset,\n",
    "                                           batch_size = BATCH_SIZE,\n",
    "                                           shuffle = True)\n",
    "test_loader = torch.utils.data.DataLoader(dataset = test_dataset,\n",
    "                                          batch_size = BATCH_SIZE,\n",
    "                                          shuffle = False)\n",
    "# 데이터셋을 mini batch 단위로 분리\n",
    "# shuffle = True, 데이터의 순서를 섞어 label 정보의 순서를 암기해 학습 하는 것을 방지\n",
    "# 즉 특정 label에 매치된 이미지 데이터의 특징을 보고 학습하는 것이 아니라 특정 이미지 데이터에 매칭된 label 값만을 집중적으로 학습하는\n",
    "# 잘못된 방향으로 학습하는 것을 방지하기 위해 데이터 순서를 섞는다.\n"
   ],
   "metadata": {
    "collapsed": false,
    "pycharm": {
     "name": "#%%\n"
    }
   }
  },
  {
   "cell_type": "code",
   "execution_count": 4,
   "outputs": [
    {
     "name": "stdout",
     "output_type": "stream",
     "text": [
      "X_train : torch.Size([32, 1, 28, 28]), type : torch.FloatTensor\n",
      "y_train : torch.Size([32]), type : torch.LongTensor\n"
     ]
    }
   ],
   "source": [
    "# 데이터 확인하기 (1)\n",
    "for (X_train, y_train) in train_loader :\n",
    "    print(f\"X_train : {X_train.size()}, type : {X_train.type()}\")\n",
    "    print(f\"y_train : {y_train.size()}, type : {y_train.type()}\")\n",
    "    break\n",
    "\n",
    "# (batch_size, channel, width, height)"
   ],
   "metadata": {
    "collapsed": false,
    "pycharm": {
     "name": "#%%\n"
    }
   }
  },
  {
   "cell_type": "code",
   "execution_count": 5,
   "outputs": [
    {
     "data": {
      "text/plain": "<Figure size 720x72 with 10 Axes>",
      "image/png": "[encoded data removed]"
     },
     "metadata": {
      "needs_background": "light"
     },
     "output_type": "display_data"
    }
   ],
   "source": [
    "# 데이터 확인하기 (2)\n",
    "pltsize = 1\n",
    "plt.figure(figsize=(10*pltsize, pltsize))\n",
    "for i in range(10):\n",
    "    plt.subplot(1,10,i+1)\n",
    "    plt.axis('off')\n",
    "    plt.imshow(X_train[i,:,:,:].numpy().reshape(28,28), cmap=\"gray_r\")\n",
    "    plt.title(f'Class : {str(y_train[i].item())}')"
   ],
   "metadata": {
    "collapsed": false,
    "pycharm": {
     "name": "#%%\n"
    }
   }
  },
  {
   "cell_type": "code",
   "execution_count": 6,
   "outputs": [],
   "source": [
    "# MLP 모델 설계하기\n",
    "class Net(nn.Module) :\n",
    "    def __init__(self):\n",
    "        super(Net, self).__init__()\n",
    "        self.fc1 = nn.Linear(28*28, 512) # (input의 차원수, layer의 node 수)\n",
    "        self.fc2 = nn.Linear(512, 256)\n",
    "        self.fc3 = nn.Linear(256, 10)\n",
    "        self.dropout_prob = 0.5\n",
    "        self.batch_norm1 = nn.BatchNorm1d(512)\n",
    "        self.batch_norm2 = nn.BatchNorm1d(256)\n",
    "\n",
    "    def forward(self,x):\n",
    "        x = x.view(-1, 28*28) # 2차원 이미지 데이터를 1차원으로 펼친다 -> flatten\n",
    "        x = self.fc1(x)\n",
    "        x = self.batch_norm1(x)\n",
    "        x = F.relu(x)\n",
    "        x = F.dropout(x, training = self.training, p = self.dropout_prob)\n",
    "        x = self.fc2(x)\n",
    "        x = self.batch_norm2(x)\n",
    "        x = F.relu(x)\n",
    "        x = F.dropout(x, training = self.training, p = self.dropout_prob)\n",
    "        x = self.fc3(x)\n",
    "        x = F.log_softmax(x, dim = 1) # 그냥 softmax가 아닌 log_softmax를 사용하는 이유는 gradient 원활하게 계산하려고\n",
    "        return x"
   ],
   "metadata": {
    "collapsed": false,
    "pycharm": {
     "name": "#%%\n"
    }
   }
  },
  {
   "cell_type": "code",
   "execution_count": 7,
   "outputs": [
    {
     "name": "stdout",
     "output_type": "stream",
     "text": [
      "Net(\n",
      "  (fc1): Linear(in_features=784, out_features=512, bias=True)\n",
      "  (fc2): Linear(in_features=512, out_features=256, bias=True)\n",
      "  (fc3): Linear(in_features=256, out_features=10, bias=True)\n",
      "  (batch_norm1): BatchNorm1d(512, eps=1e-05, momentum=0.1, affine=True, track_running_stats=True)\n",
      "  (batch_norm2): BatchNorm1d(256, eps=1e-05, momentum=0.1, affine=True, track_running_stats=True)\n",
      ")\n"
     ]
    }
   ],
   "source": [
    "# Optimizer, Objective Function 설정하기\n",
    "import torch.nn.init as init\n",
    "def weight_init(m):\n",
    "    if isinstance(m, nn.Linear): # 모델을 구성하고 있는 layer 중 nn.Linear에 해당하는 파라미터 값만 초기화\n",
    "        init.kaiming_uniform_(m.weight.data)\n",
    "\n",
    "model = Net().to(DEVICE)\n",
    "model.apply(weight_init)\n",
    "optimizer = torch.optim.SGD(model.parameters(), lr = 0.01, momentum=0.5)\n",
    "criterion = nn.CrossEntropyLoss()\n",
    "print(model)"
   ],
   "metadata": {
    "collapsed": false,
    "pycharm": {
     "name": "#%%\n"
    }
   }
  },
  {
   "cell_type": "code",
   "execution_count": 8,
   "outputs": [],
   "source": [
    "# MLP 모델 학습을 진행하면서 학습 데이터에 대한 모델 성능을 확인하는 함수 정의\n",
    "def train(model, train_loader, optimizer, log_interval, epoch) :\n",
    "    model.train() # 모델을 학습상태로 만듦\n",
    "    for batch_idx, (image, label) in enumerate(train_loader):\n",
    "        image = image.to(DEVICE) # 데이터를 기존에 정의한 장비에 할당한다.\n",
    "        label = label.to(DEVICE) # label을 기존에 정의한 장비에 할당한다.\n",
    "        optimizer.zero_grad() # 기존에 정의한 장비에 데이터를 할당할 경우, 과거에 사용한 데이터를 바탕으로 계산된 loss의 gradient 값이 optimizer에 할당돼 있으므로 optimizer 초기화\n",
    "        output = model(image)\n",
    "        loss = criterion(output, label)\n",
    "        loss.backward() # loss 값을 바탕으로 BP 해서 나온 gradient를 각 파라미터에 할당\n",
    "        optimizer.step() # 각 파라미터에 할당된 gradient 값을 이용해 파라미터 값 업데이트\n",
    "\n",
    "        if batch_idx % log_interval == 0 :\n",
    "            print(f\"Train Epoch : {epoch} [{batch_idx*len(image)}/\"\n",
    "                  f\"{len(train_loader.dataset)}({100.*batch_idx/len(train_loader):.0f}%)]\"\n",
    "                  f\"\\tTrain Loss : {loss.item()}\")"
   ],
   "metadata": {
    "collapsed": false,
    "pycharm": {
     "name": "#%%\n"
    }
   }
  },
  {
   "cell_type": "code",
   "execution_count": 9,
   "outputs": [],
   "source": [
    "# 학습되는 과정 속에서 검증 데이터에 대한 모델의 성능을 확인하는 함수 정의\n",
    "def evaluate(model, test_loader):\n",
    "    model.eval() # 모델을 평가 상태로 지정\n",
    "    test_loss = 0 # loss 값\n",
    "    correct = 0 # 모델이 올바른 class로 분류한 경우를 count\n",
    "\n",
    "    with torch.no_grad() : # gradient를 통해 parameter가 업데이트 하는 것을 방지하기 위해\n",
    "        for image, label in test_loader :\n",
    "            image = image.to(DEVICE)\n",
    "            label = label.to(DEVICE)\n",
    "            output = model(image)\n",
    "            test_loss += criterion(output, label).item()\n",
    "            prediction = output.max(1, keepdim = True)[1] # 모델의 ouput은 크기가 10인 벡터이다. 따라서 가장 큰 값이 들어있는 위치를 찾아야 한다.\n",
    "            correct += prediction.eq(label.view_as(prediction)).sum().item()\n",
    "\n",
    "            # tensor.max ( return (max, max_index) )\n",
    "            # view_as == 인자로 들어온 tensor로 모양 변경 (메모리에 tensor를 직접 변경 하는게 아님)\n",
    "            # eq == tensor를 비교해 같은 위치에 같은 값이 있으면 해당 위치는 True, 아니면 False인 tensor 반환\n",
    "            # item == tensor를 python single value로 변환 (tensor의 차원은 상관 없으나 값이 1개만 있어야 한다.)\n",
    "\n",
    "        test_loss /= len(test_loader.dataset)\n",
    "        test_accuracy = 100. * correct / len(test_loader.dataset)\n",
    "        return test_loss, test_accuracy"
   ],
   "metadata": {
    "collapsed": false,
    "pycharm": {
     "name": "#%%\n"
    }
   }
  },
  {
   "cell_type": "code",
   "execution_count": 10,
   "outputs": [
    {
     "name": "stdout",
     "output_type": "stream",
     "text": [
      "Train Epoch : 1 [0/60000(0%)]\tTrain Loss : 2.967275619506836\n",
      "Train Epoch : 1 [6400/60000(11%)]\tTrain Loss : 0.7734955549240112\n",
      "Train Epoch : 1 [12800/60000(21%)]\tTrain Loss : 0.4609794616699219\n",
      "Train Epoch : 1 [19200/60000(32%)]\tTrain Loss : 1.0145426988601685\n",
      "Train Epoch : 1 [25600/60000(43%)]\tTrain Loss : 0.6459068655967712\n",
      "Train Epoch : 1 [32000/60000(53%)]\tTrain Loss : 0.27663981914520264\n",
      "Train Epoch : 1 [38400/60000(64%)]\tTrain Loss : 0.3690680265426636\n",
      "Train Epoch : 1 [44800/60000(75%)]\tTrain Loss : 0.2733006775379181\n",
      "Train Epoch : 1 [51200/60000(85%)]\tTrain Loss : 0.41163358092308044\n",
      "Train Epoch : 1 [57600/60000(96%)]\tTrain Loss : 0.23194436728954315\n",
      "\n",
      "[EPOCH:1] \tTest Loss : 0.0069, \tTest Accuracy : 93.62\n",
      "\n",
      "Train Epoch : 2 [0/60000(0%)]\tTrain Loss : 0.4351765215396881\n",
      "Train Epoch : 2 [6400/60000(11%)]\tTrain Loss : 0.3177049160003662\n",
      "Train Epoch : 2 [12800/60000(21%)]\tTrain Loss : 0.13533556461334229\n",
      "Train Epoch : 2 [19200/60000(32%)]\tTrain Loss : 0.1846598982810974\n",
      "Train Epoch : 2 [25600/60000(43%)]\tTrain Loss : 0.46606335043907166\n",
      "Train Epoch : 2 [32000/60000(53%)]\tTrain Loss : 0.581163763999939\n",
      "Train Epoch : 2 [38400/60000(64%)]\tTrain Loss : 0.4743417203426361\n",
      "Train Epoch : 2 [44800/60000(75%)]\tTrain Loss : 0.21323153376579285\n",
      "Train Epoch : 2 [51200/60000(85%)]\tTrain Loss : 0.4380022883415222\n",
      "Train Epoch : 2 [57600/60000(96%)]\tTrain Loss : 0.36505523324012756\n",
      "\n",
      "[EPOCH:2] \tTest Loss : 0.0052, \tTest Accuracy : 95.17\n",
      "\n",
      "Train Epoch : 3 [0/60000(0%)]\tTrain Loss : 0.49426472187042236\n",
      "Train Epoch : 3 [6400/60000(11%)]\tTrain Loss : 0.3684852421283722\n",
      "Train Epoch : 3 [12800/60000(21%)]\tTrain Loss : 0.18380892276763916\n",
      "Train Epoch : 3 [19200/60000(32%)]\tTrain Loss : 0.31150126457214355\n",
      "Train Epoch : 3 [25600/60000(43%)]\tTrain Loss : 0.21229732036590576\n",
      "Train Epoch : 3 [32000/60000(53%)]\tTrain Loss : 0.4074704945087433\n",
      "Train Epoch : 3 [38400/60000(64%)]\tTrain Loss : 0.5280939340591431\n",
      "Train Epoch : 3 [44800/60000(75%)]\tTrain Loss : 0.5607707500457764\n",
      "Train Epoch : 3 [51200/60000(85%)]\tTrain Loss : 0.5957608819007874\n",
      "Train Epoch : 3 [57600/60000(96%)]\tTrain Loss : 0.08360233902931213\n",
      "\n",
      "[EPOCH:3] \tTest Loss : 0.0043, \tTest Accuracy : 95.76\n",
      "\n",
      "Train Epoch : 4 [0/60000(0%)]\tTrain Loss : 0.30088597536087036\n",
      "Train Epoch : 4 [6400/60000(11%)]\tTrain Loss : 0.3170969486236572\n",
      "Train Epoch : 4 [12800/60000(21%)]\tTrain Loss : 0.1019197404384613\n",
      "Train Epoch : 4 [19200/60000(32%)]\tTrain Loss : 0.1610053926706314\n",
      "Train Epoch : 4 [25600/60000(43%)]\tTrain Loss : 0.13737346231937408\n",
      "Train Epoch : 4 [32000/60000(53%)]\tTrain Loss : 0.11787842214107513\n",
      "Train Epoch : 4 [38400/60000(64%)]\tTrain Loss : 0.348921000957489\n",
      "Train Epoch : 4 [44800/60000(75%)]\tTrain Loss : 0.22743894159793854\n",
      "Train Epoch : 4 [51200/60000(85%)]\tTrain Loss : 0.4761006534099579\n",
      "Train Epoch : 4 [57600/60000(96%)]\tTrain Loss : 0.16712938249111176\n",
      "\n",
      "[EPOCH:4] \tTest Loss : 0.0040, \tTest Accuracy : 96.21\n",
      "\n",
      "Train Epoch : 5 [0/60000(0%)]\tTrain Loss : 0.38753846287727356\n",
      "Train Epoch : 5 [6400/60000(11%)]\tTrain Loss : 0.19398902356624603\n",
      "Train Epoch : 5 [12800/60000(21%)]\tTrain Loss : 0.28735846281051636\n",
      "Train Epoch : 5 [19200/60000(32%)]\tTrain Loss : 0.2576782703399658\n",
      "Train Epoch : 5 [25600/60000(43%)]\tTrain Loss : 0.45142805576324463\n",
      "Train Epoch : 5 [32000/60000(53%)]\tTrain Loss : 0.22406822443008423\n",
      "Train Epoch : 5 [38400/60000(64%)]\tTrain Loss : 0.04658648744225502\n",
      "Train Epoch : 5 [44800/60000(75%)]\tTrain Loss : 0.24187836050987244\n",
      "Train Epoch : 5 [51200/60000(85%)]\tTrain Loss : 0.3267143666744232\n",
      "Train Epoch : 5 [57600/60000(96%)]\tTrain Loss : 0.10639948397874832\n",
      "\n",
      "[EPOCH:5] \tTest Loss : 0.0037, \tTest Accuracy : 96.44\n",
      "\n",
      "Train Epoch : 6 [0/60000(0%)]\tTrain Loss : 0.03254019469022751\n",
      "Train Epoch : 6 [6400/60000(11%)]\tTrain Loss : 0.3295087516307831\n",
      "Train Epoch : 6 [12800/60000(21%)]\tTrain Loss : 0.27618151903152466\n",
      "Train Epoch : 6 [19200/60000(32%)]\tTrain Loss : 0.15111485123634338\n",
      "Train Epoch : 6 [25600/60000(43%)]\tTrain Loss : 0.1658126562833786\n",
      "Train Epoch : 6 [32000/60000(53%)]\tTrain Loss : 0.1547185331583023\n",
      "Train Epoch : 6 [38400/60000(64%)]\tTrain Loss : 0.1629490703344345\n",
      "Train Epoch : 6 [44800/60000(75%)]\tTrain Loss : 0.06365896016359329\n",
      "Train Epoch : 6 [51200/60000(85%)]\tTrain Loss : 0.16667667031288147\n",
      "Train Epoch : 6 [57600/60000(96%)]\tTrain Loss : 0.21357452869415283\n",
      "\n",
      "[EPOCH:6] \tTest Loss : 0.0033, \tTest Accuracy : 96.68\n",
      "\n",
      "Train Epoch : 7 [0/60000(0%)]\tTrain Loss : 0.08717552572488785\n",
      "Train Epoch : 7 [6400/60000(11%)]\tTrain Loss : 0.2374669909477234\n",
      "Train Epoch : 7 [12800/60000(21%)]\tTrain Loss : 0.5737825036048889\n",
      "Train Epoch : 7 [19200/60000(32%)]\tTrain Loss : 0.24442023038864136\n",
      "Train Epoch : 7 [25600/60000(43%)]\tTrain Loss : 0.07183069735765457\n",
      "Train Epoch : 7 [32000/60000(53%)]\tTrain Loss : 0.31813567876815796\n",
      "Train Epoch : 7 [38400/60000(64%)]\tTrain Loss : 0.2016003131866455\n",
      "Train Epoch : 7 [44800/60000(75%)]\tTrain Loss : 0.09833064675331116\n",
      "Train Epoch : 7 [51200/60000(85%)]\tTrain Loss : 0.08890220522880554\n",
      "Train Epoch : 7 [57600/60000(96%)]\tTrain Loss : 0.21224133670330048\n",
      "\n",
      "[EPOCH:7] \tTest Loss : 0.0032, \tTest Accuracy : 96.85\n",
      "\n",
      "Train Epoch : 8 [0/60000(0%)]\tTrain Loss : 0.057142700999975204\n",
      "Train Epoch : 8 [6400/60000(11%)]\tTrain Loss : 0.30703940987586975\n",
      "Train Epoch : 8 [12800/60000(21%)]\tTrain Loss : 0.35331225395202637\n",
      "Train Epoch : 8 [19200/60000(32%)]\tTrain Loss : 0.2594342827796936\n",
      "Train Epoch : 8 [25600/60000(43%)]\tTrain Loss : 0.11210332810878754\n",
      "Train Epoch : 8 [32000/60000(53%)]\tTrain Loss : 0.16253405809402466\n",
      "Train Epoch : 8 [38400/60000(64%)]\tTrain Loss : 0.08607015013694763\n",
      "Train Epoch : 8 [44800/60000(75%)]\tTrain Loss : 0.1899271458387375\n",
      "Train Epoch : 8 [51200/60000(85%)]\tTrain Loss : 0.061490368098020554\n",
      "Train Epoch : 8 [57600/60000(96%)]\tTrain Loss : 0.29294830560684204\n",
      "\n",
      "[EPOCH:8] \tTest Loss : 0.0030, \tTest Accuracy : 97.00\n",
      "\n",
      "Train Epoch : 9 [0/60000(0%)]\tTrain Loss : 0.09385023266077042\n",
      "Train Epoch : 9 [6400/60000(11%)]\tTrain Loss : 0.155372753739357\n",
      "Train Epoch : 9 [12800/60000(21%)]\tTrain Loss : 0.24732354283332825\n",
      "Train Epoch : 9 [19200/60000(32%)]\tTrain Loss : 0.13533906638622284\n",
      "Train Epoch : 9 [25600/60000(43%)]\tTrain Loss : 0.15931019186973572\n",
      "Train Epoch : 9 [32000/60000(53%)]\tTrain Loss : 0.062273312360048294\n",
      "Train Epoch : 9 [38400/60000(64%)]\tTrain Loss : 0.04304654896259308\n",
      "Train Epoch : 9 [44800/60000(75%)]\tTrain Loss : 0.18780048191547394\n",
      "Train Epoch : 9 [51200/60000(85%)]\tTrain Loss : 0.060945186764001846\n",
      "Train Epoch : 9 [57600/60000(96%)]\tTrain Loss : 0.09813529253005981\n",
      "\n",
      "[EPOCH:9] \tTest Loss : 0.0029, \tTest Accuracy : 97.04\n",
      "\n",
      "Train Epoch : 10 [0/60000(0%)]\tTrain Loss : 0.1637735366821289\n",
      "Train Epoch : 10 [6400/60000(11%)]\tTrain Loss : 0.16448429226875305\n",
      "Train Epoch : 10 [12800/60000(21%)]\tTrain Loss : 0.11919115483760834\n",
      "Train Epoch : 10 [19200/60000(32%)]\tTrain Loss : 0.13742771744728088\n",
      "Train Epoch : 10 [25600/60000(43%)]\tTrain Loss : 0.34687238931655884\n",
      "Train Epoch : 10 [32000/60000(53%)]\tTrain Loss : 0.06680178642272949\n",
      "Train Epoch : 10 [38400/60000(64%)]\tTrain Loss : 0.2061561942100525\n",
      "Train Epoch : 10 [44800/60000(75%)]\tTrain Loss : 0.45776960253715515\n",
      "Train Epoch : 10 [51200/60000(85%)]\tTrain Loss : 0.0969276875257492\n",
      "Train Epoch : 10 [57600/60000(96%)]\tTrain Loss : 0.08357717096805573\n",
      "\n",
      "[EPOCH:10] \tTest Loss : 0.0027, \tTest Accuracy : 97.30\n",
      "\n"
     ]
    }
   ],
   "source": [
    "# MLP 학습을 실행하면서 Train, Test set의 Loss 및 Test set accuracy 확인하기\n",
    "for Epoch in range(1, EPOCHS+1):\n",
    "    train(model, train_loader, optimizer, log_interval=200, epoch = Epoch)\n",
    "    test_loss, test_accuracy = evaluate(model, test_loader)\n",
    "    print(f\"\\n[EPOCH:{Epoch}] \\tTest Loss : {test_loss:.4f}, \\tTest Accuracy : {test_accuracy:.2f}\\n\")"
   ],
   "metadata": {
    "collapsed": false,
    "pycharm": {
     "name": "#%%\n"
    }
   }
  }
 ],
 "metadata": {
  "kernelspec": {
   "display_name": "Python 3",
   "language": "python",
   "name": "python3"
  },
  "language_info": {
   "codemirror_mode": {
    "name": "ipython",
    "version": 2
   },
   "file_extension": ".py",
   "mimetype": "text/x-python",
   "name": "python",
   "nbconvert_exporter": "python",
   "pygments_lexer": "ipython2",
   "version": "2.7.6"
  }
 },
 "nbformat": 4,
 "nbformat_minor": 0
}