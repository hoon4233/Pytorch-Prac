{
 "cells": [
  {
   "cell_type": "code",
   "execution_count": 2,
   "metadata": {
    "collapsed": true
   },
   "outputs": [],
   "source": [
    "# 모듈 임포트하기\n",
    "import numpy as np\n",
    "import matplotlib.pyplot as plt\n",
    "import torch\n",
    "import torch.nn as nn\n",
    "import torch.nn.functional as F\n",
    "from torchvision import transforms, datasets"
   ]
  },
  {
   "cell_type": "code",
   "execution_count": 3,
   "outputs": [
    {
     "name": "stdout",
     "output_type": "stream",
     "text": [
      "Using Pytorch version : 1.8.1, Device : cpu\n"
     ]
    }
   ],
   "source": [
    "# 딥러닝 모델을 설계할 때 활용하는 장비 확인하기\n",
    "if torch.cuda.is_available() :\n",
    "    DEVICE = torch.device('cuda')\n",
    "else :\n",
    "    DEVICE = torch.device('cpu')\n",
    "print(f\"Using Pytorch version : {torch.__version__}, Device : {DEVICE}\")\n",
    "\n",
    "BATCH_SIZE = 32\n",
    "EPOCHS = 10"
   ],
   "metadata": {
    "collapsed": false,
    "pycharm": {
     "name": "#%%\n"
    }
   }
  },
  {
   "cell_type": "code",
   "execution_count": 4,
   "outputs": [
    {
     "name": "stdout",
     "output_type": "stream",
     "text": [
      "Files already downloaded and verified\n"
     ]
    }
   ],
   "source": [
    "# CIFAR-10 데이터 다운로드 하기 (Train, Test set 분리)\n",
    "train_dataset = datasets.CIFAR10(root = \"../data/CIFAR-10\",\n",
    "                                      train = True,\n",
    "                                      download= True,\n",
    "                                      transform = transforms.Compose([\n",
    "                                          transforms.RandomHorizontalFlip(), # 해당 이미지를 50% 확률로 좌우 반전\n",
    "                                          transforms.ToTensor(),\n",
    "                                          transforms.Normalize(\n",
    "                                              (0.5, 0.5, 0.5), # 평균\n",
    "                                              (0.5, 0.5, 0.5) #표준편차\n",
    "                                          )\n",
    "                                      ]))\n",
    "test_dataset = datasets.CIFAR10(root = \"../data/CIFAR-10\",\n",
    "                                      train = False,\n",
    "                                      transform = transforms.Compose([\n",
    "                                          transforms.RandomHorizontalFlip(),\n",
    "                                          transforms.ToTensor(),\n",
    "                                          transforms.Normalize(\n",
    "                                              (0.5, 0.5, 0.5), # 평균\n",
    "                                              (0.5, 0.5, 0.5) #표준편차\n",
    "                                          )\n",
    "                                      ]))\n",
    "train_loader = torch.utils.data.DataLoader(dataset = train_dataset,\n",
    "                                           batch_size = BATCH_SIZE,\n",
    "                                           shuffle = True)\n",
    "test_loader = torch.utils.data.DataLoader(dataset = test_dataset,\n",
    "                                           batch_size = BATCH_SIZE,\n",
    "                                           shuffle = False)"
   ],
   "metadata": {
    "collapsed": false,
    "pycharm": {
     "name": "#%%\n"
    }
   }
  },
  {
   "cell_type": "code",
   "execution_count": 5,
   "outputs": [
    {
     "name": "stdout",
     "output_type": "stream",
     "text": [
      "X_train : torch.Size([32, 3, 32, 32]), type : torch.FloatTensor\n",
      "y_train : torch.Size([32]), type : torch.LongTensor\n"
     ]
    }
   ],
   "source": [
    "# 데이터 확인하기 (1)\n",
    "for (X_train, y_train) in train_loader :\n",
    "    print(f\"X_train : {X_train.size()}, type : {X_train.type()}\")\n",
    "    print(f\"y_train : {y_train.size()}, type : {y_train.type()}\")\n",
    "    break"
   ],
   "metadata": {
    "collapsed": false,
    "pycharm": {
     "name": "#%%\n"
    }
   }
  },
  {
   "cell_type": "code",
   "execution_count": 6,
   "outputs": [
    {
     "name": "stderr",
     "output_type": "stream",
     "text": [
      "Clipping input data to the valid range for imshow with RGB data ([0..1] for floats or [0..255] for integers).\n",
      "Clipping input data to the valid range for imshow with RGB data ([0..1] for floats or [0..255] for integers).\n",
      "Clipping input data to the valid range for imshow with RGB data ([0..1] for floats or [0..255] for integers).\n",
      "Clipping input data to the valid range for imshow with RGB data ([0..1] for floats or [0..255] for integers).\n",
      "Clipping input data to the valid range for imshow with RGB data ([0..1] for floats or [0..255] for integers).\n",
      "Clipping input data to the valid range for imshow with RGB data ([0..1] for floats or [0..255] for integers).\n",
      "Clipping input data to the valid range for imshow with RGB data ([0..1] for floats or [0..255] for integers).\n",
      "Clipping input data to the valid range for imshow with RGB data ([0..1] for floats or [0..255] for integers).\n",
      "Clipping input data to the valid range for imshow with RGB data ([0..1] for floats or [0..255] for integers).\n",
      "Clipping input data to the valid range for imshow with RGB data ([0..1] for floats or [0..255] for integers).\n"
     ]
    },
    {
     "data": {
      "text/plain": "<Figure size 720x72 with 10 Axes>",
      "image/png": "[encoded data removed]"
     },
     "metadata": {
      "needs_background": "light"
     },
     "output_type": "display_data"
    }
   ],
   "source": [
    "# 데이터 확인하기 (2)\n",
    "pltsize = 1\n",
    "plt.figure(figsize=(10*pltsize, pltsize))\n",
    "for i in range(10):\n",
    "    plt.subplot(1, 10, i+1)\n",
    "    plt.axis('off')\n",
    "    plt.imshow(np.transpose(X_train[i], (1,2,0)))\n",
    "        # pytorch 에선 [mini_batch, channel, height, width], 시각화 하기 위해서 [width, height, channel]로 변경\n",
    "    plt.title(f'Class : {str(y_train[i].item())}')"
   ],
   "metadata": {
    "collapsed": false,
    "pycharm": {
     "name": "#%%\n"
    }
   }
  },
  {
   "cell_type": "code",
   "execution_count": 7,
   "outputs": [],
   "source": [
    "# CNN 모델 설계하기\n",
    "class CNN(nn.Module):\n",
    "    def __init__(self):\n",
    "        super(CNN, self).__init__()\n",
    "        self.conv1 = nn.Conv2d(\n",
    "            in_channels = 3,\n",
    "            out_channels = 8,\n",
    "            kernel_size = 3,\n",
    "            padding = 1\n",
    "        )\n",
    "        self.conv2 = nn.Conv2d(\n",
    "            in_channels = 8,\n",
    "            out_channels = 16,\n",
    "            kernel_size = 3,\n",
    "            padding = 1\n",
    "        )\n",
    "        self.pool = nn.MaxPool2d(\n",
    "            kernel_size = 2,\n",
    "            stride = 2\n",
    "        )\n",
    "        self.fc1 = nn.Linear(8*8*16, 64)\n",
    "        self.fc2 = nn.Linear(64, 32)\n",
    "        self.fc3 = nn.Linear(32, 10)\n",
    "\n",
    "    def forward(self, x):\n",
    "        x = self.conv1(x)\n",
    "        x = F.relu(x)\n",
    "        x = self.pool(x)\n",
    "        x = self.conv2(x)\n",
    "        x = F.relu(x)\n",
    "        x = self.pool(x)\n",
    "\n",
    "        x = x.view(-1, 8*8*16)\n",
    "        x = self.fc1(x)\n",
    "        x = F.relu(x)\n",
    "        x = self.fc2(x)\n",
    "        x = F.relu(x)\n",
    "        x = self.fc3(x)\n",
    "        x = F.log_softmax(x)\n",
    "        return x"
   ],
   "metadata": {
    "collapsed": false,
    "pycharm": {
     "name": "#%%\n"
    }
   }
  },
  {
   "cell_type": "code",
   "execution_count": 8,
   "outputs": [
    {
     "name": "stdout",
     "output_type": "stream",
     "text": [
      "CNN(\n",
      "  (conv1): Conv2d(3, 8, kernel_size=(3, 3), stride=(1, 1), padding=(1, 1))\n",
      "  (conv2): Conv2d(8, 16, kernel_size=(3, 3), stride=(1, 1), padding=(1, 1))\n",
      "  (pool): MaxPool2d(kernel_size=2, stride=2, padding=0, dilation=1, ceil_mode=False)\n",
      "  (fc1): Linear(in_features=1024, out_features=64, bias=True)\n",
      "  (fc2): Linear(in_features=64, out_features=32, bias=True)\n",
      "  (fc3): Linear(in_features=32, out_features=10, bias=True)\n",
      ")\n"
     ]
    }
   ],
   "source": [
    "# Optimizer, Objective Function 설정하기\n",
    "model = CNN().to(DEVICE)\n",
    "optimizer = torch.optim.Adam(model.parameters(), lr = 0.001)\n",
    "criterion = nn.CrossEntropyLoss()\n",
    "print(model)"
   ],
   "metadata": {
    "collapsed": false,
    "pycharm": {
     "name": "#%%\n"
    }
   }
  },
  {
   "cell_type": "code",
   "execution_count": 9,
   "outputs": [],
   "source": [
    "# CNN 모델 학습을 진행하면서 학습 데이터에 대한 모델 성능을 확인하는 함수 정의\n",
    "def train(model, train_loader, optimizer, log_interval, epoch) :\n",
    "    model.train()\n",
    "    for batch_idx, (image, label) in enumerate(train_loader):\n",
    "        image = image.to(DEVICE)\n",
    "        label = label.to(DEVICE)\n",
    "        optimizer.zero_grad()\n",
    "        output = model(image)\n",
    "        loss = criterion(output, label)\n",
    "        loss.backward()\n",
    "        optimizer.step()\n",
    "\n",
    "        if batch_idx % log_interval == 0 :\n",
    "            print(f\"Train Epoch : {epoch} [{batch_idx*len(image)}/\"\n",
    "                  f\"{len(train_loader.dataset)}({100.*batch_idx/len(train_loader):.0f}%)]\"\n",
    "                  f\"\\tTrain Loss : {loss.item()}\")"
   ],
   "metadata": {
    "collapsed": false,
    "pycharm": {
     "name": "#%%\n"
    }
   }
  },
  {
   "cell_type": "code",
   "execution_count": 10,
   "outputs": [],
   "source": [
    "# 학습되는 과정 속에서 검증 데이터에 대한 모델 성능을 확인하는 함수 정의\n",
    "def evaluate(model, test_loader):\n",
    "    model.eval()\n",
    "    test_loss = 0\n",
    "    correct = 0\n",
    "\n",
    "    with torch.no_grad() :\n",
    "        for image, label in test_loader :\n",
    "            image = image.to(DEVICE)\n",
    "            label = label.to(DEVICE)\n",
    "            output = model(image)\n",
    "\n",
    "            test_loss += criterion(output, label).item()\n",
    "            prediction = output.max(1, keepdim=True)[1]\n",
    "            correct += prediction.eq(label.view_as(prediction)).sum().item()\n",
    "\n",
    "    test_loss /= len(test_loader.dataset)\n",
    "    test_accuracy = 100.*correct/len(test_loader.dataset)\n",
    "    return test_loss, test_accuracy"
   ],
   "metadata": {
    "collapsed": false,
    "pycharm": {
     "name": "#%%\n"
    }
   }
  },
  {
   "cell_type": "code",
   "execution_count": 11,
   "outputs": [
    {
     "name": "stdout",
     "output_type": "stream",
     "text": [
      "Train Epoch : 1 [0/50000(0%)]\tTrain Loss : 2.2638514041900635\n"
     ]
    },
    {
     "name": "stderr",
     "output_type": "stream",
     "text": [
      "<ipython-input-7-96b490218044>:39: UserWarning: Implicit dimension choice for log_softmax has been deprecated. Change the call to include dim=X as an argument.\n",
      "  x = F.log_softmax(x)\n"
     ]
    },
    {
     "name": "stdout",
     "output_type": "stream",
     "text": [
      "Train Epoch : 1 [6400/50000(13%)]\tTrain Loss : 2.03737473487854\n",
      "Train Epoch : 1 [12800/50000(26%)]\tTrain Loss : 1.6331866979599\n",
      "Train Epoch : 1 [19200/50000(38%)]\tTrain Loss : 1.4997297525405884\n",
      "Train Epoch : 1 [25600/50000(51%)]\tTrain Loss : 1.4564074277877808\n",
      "Train Epoch : 1 [32000/50000(64%)]\tTrain Loss : 1.6959855556488037\n",
      "Train Epoch : 1 [38400/50000(77%)]\tTrain Loss : 1.510201334953308\n",
      "Train Epoch : 1 [44800/50000(90%)]\tTrain Loss : 1.5906062126159668\n",
      "\n",
      "[EPOCH:1] \tTest Loss : 0.0437 \tTest Accuracy : 49.30\n",
      "\n",
      "Train Epoch : 2 [0/50000(0%)]\tTrain Loss : 1.6731688976287842\n",
      "Train Epoch : 2 [6400/50000(13%)]\tTrain Loss : 1.7012827396392822\n",
      "Train Epoch : 2 [12800/50000(26%)]\tTrain Loss : 1.3352590799331665\n",
      "Train Epoch : 2 [19200/50000(38%)]\tTrain Loss : 1.0923893451690674\n",
      "Train Epoch : 2 [25600/50000(51%)]\tTrain Loss : 1.36677086353302\n",
      "Train Epoch : 2 [32000/50000(64%)]\tTrain Loss : 1.6280986070632935\n",
      "Train Epoch : 2 [38400/50000(77%)]\tTrain Loss : 1.3246387243270874\n",
      "Train Epoch : 2 [44800/50000(90%)]\tTrain Loss : 1.300972580909729\n",
      "\n",
      "[EPOCH:2] \tTest Loss : 0.0387 \tTest Accuracy : 54.96\n",
      "\n",
      "Train Epoch : 3 [0/50000(0%)]\tTrain Loss : 1.3999286890029907\n",
      "Train Epoch : 3 [6400/50000(13%)]\tTrain Loss : 1.2532483339309692\n",
      "Train Epoch : 3 [12800/50000(26%)]\tTrain Loss : 1.3115241527557373\n",
      "Train Epoch : 3 [19200/50000(38%)]\tTrain Loss : 1.2717198133468628\n",
      "Train Epoch : 3 [25600/50000(51%)]\tTrain Loss : 1.3533293008804321\n",
      "Train Epoch : 3 [32000/50000(64%)]\tTrain Loss : 1.1664986610412598\n",
      "Train Epoch : 3 [38400/50000(77%)]\tTrain Loss : 1.7118284702301025\n",
      "Train Epoch : 3 [44800/50000(90%)]\tTrain Loss : 0.9443406462669373\n",
      "\n",
      "[EPOCH:3] \tTest Loss : 0.0357 \tTest Accuracy : 59.10\n",
      "\n",
      "Train Epoch : 4 [0/50000(0%)]\tTrain Loss : 1.1522096395492554\n",
      "Train Epoch : 4 [6400/50000(13%)]\tTrain Loss : 1.0190930366516113\n",
      "Train Epoch : 4 [12800/50000(26%)]\tTrain Loss : 1.181947946548462\n",
      "Train Epoch : 4 [19200/50000(38%)]\tTrain Loss : 1.096300482749939\n",
      "Train Epoch : 4 [25600/50000(51%)]\tTrain Loss : 0.9164170622825623\n",
      "Train Epoch : 4 [32000/50000(64%)]\tTrain Loss : 1.2515112161636353\n",
      "Train Epoch : 4 [38400/50000(77%)]\tTrain Loss : 1.3100954294204712\n",
      "Train Epoch : 4 [44800/50000(90%)]\tTrain Loss : 0.9358245134353638\n",
      "\n",
      "[EPOCH:4] \tTest Loss : 0.0347 \tTest Accuracy : 60.62\n",
      "\n",
      "Train Epoch : 5 [0/50000(0%)]\tTrain Loss : 1.1844007968902588\n",
      "Train Epoch : 5 [6400/50000(13%)]\tTrain Loss : 0.979113757610321\n",
      "Train Epoch : 5 [12800/50000(26%)]\tTrain Loss : 1.352907419204712\n",
      "Train Epoch : 5 [19200/50000(38%)]\tTrain Loss : 1.3283021450042725\n",
      "Train Epoch : 5 [25600/50000(51%)]\tTrain Loss : 1.0091495513916016\n",
      "Train Epoch : 5 [32000/50000(64%)]\tTrain Loss : 0.9889400005340576\n",
      "Train Epoch : 5 [38400/50000(77%)]\tTrain Loss : 1.0109164714813232\n",
      "Train Epoch : 5 [44800/50000(90%)]\tTrain Loss : 1.1554187536239624\n",
      "\n",
      "[EPOCH:5] \tTest Loss : 0.0330 \tTest Accuracy : 63.03\n",
      "\n",
      "Train Epoch : 6 [0/50000(0%)]\tTrain Loss : 0.7164260745048523\n",
      "Train Epoch : 6 [6400/50000(13%)]\tTrain Loss : 1.0765966176986694\n",
      "Train Epoch : 6 [12800/50000(26%)]\tTrain Loss : 1.4948533773422241\n",
      "Train Epoch : 6 [19200/50000(38%)]\tTrain Loss : 1.384450078010559\n",
      "Train Epoch : 6 [25600/50000(51%)]\tTrain Loss : 0.9555354714393616\n",
      "Train Epoch : 6 [32000/50000(64%)]\tTrain Loss : 0.9769408702850342\n",
      "Train Epoch : 6 [38400/50000(77%)]\tTrain Loss : 1.0407298803329468\n",
      "Train Epoch : 6 [44800/50000(90%)]\tTrain Loss : 0.8602434992790222\n",
      "\n",
      "[EPOCH:6] \tTest Loss : 0.0323 \tTest Accuracy : 64.01\n",
      "\n",
      "Train Epoch : 7 [0/50000(0%)]\tTrain Loss : 0.6932425498962402\n",
      "Train Epoch : 7 [6400/50000(13%)]\tTrain Loss : 1.0004678964614868\n",
      "Train Epoch : 7 [12800/50000(26%)]\tTrain Loss : 1.0471857786178589\n",
      "Train Epoch : 7 [19200/50000(38%)]\tTrain Loss : 0.84249347448349\n",
      "Train Epoch : 7 [25600/50000(51%)]\tTrain Loss : 0.8747266530990601\n",
      "Train Epoch : 7 [32000/50000(64%)]\tTrain Loss : 1.058375358581543\n",
      "Train Epoch : 7 [38400/50000(77%)]\tTrain Loss : 1.158866047859192\n",
      "Train Epoch : 7 [44800/50000(90%)]\tTrain Loss : 0.950437605381012\n",
      "\n",
      "[EPOCH:7] \tTest Loss : 0.0308 \tTest Accuracy : 65.32\n",
      "\n",
      "Train Epoch : 8 [0/50000(0%)]\tTrain Loss : 0.9548714756965637\n",
      "Train Epoch : 8 [6400/50000(13%)]\tTrain Loss : 0.9667123556137085\n",
      "Train Epoch : 8 [12800/50000(26%)]\tTrain Loss : 0.9455826878547668\n",
      "Train Epoch : 8 [19200/50000(38%)]\tTrain Loss : 0.7633682489395142\n",
      "Train Epoch : 8 [25600/50000(51%)]\tTrain Loss : 0.7542139291763306\n",
      "Train Epoch : 8 [32000/50000(64%)]\tTrain Loss : 1.4086700677871704\n",
      "Train Epoch : 8 [38400/50000(77%)]\tTrain Loss : 1.2275352478027344\n",
      "Train Epoch : 8 [44800/50000(90%)]\tTrain Loss : 0.6832431554794312\n",
      "\n",
      "[EPOCH:8] \tTest Loss : 0.0305 \tTest Accuracy : 66.27\n",
      "\n",
      "Train Epoch : 9 [0/50000(0%)]\tTrain Loss : 0.5936036705970764\n",
      "Train Epoch : 9 [6400/50000(13%)]\tTrain Loss : 0.7495827078819275\n",
      "Train Epoch : 9 [12800/50000(26%)]\tTrain Loss : 0.7255755662918091\n",
      "Train Epoch : 9 [19200/50000(38%)]\tTrain Loss : 1.0902830362319946\n",
      "Train Epoch : 9 [25600/50000(51%)]\tTrain Loss : 0.9606202244758606\n",
      "Train Epoch : 9 [32000/50000(64%)]\tTrain Loss : 0.8767622113227844\n",
      "Train Epoch : 9 [38400/50000(77%)]\tTrain Loss : 0.7645076513290405\n",
      "Train Epoch : 9 [44800/50000(90%)]\tTrain Loss : 0.6274048089981079\n",
      "\n",
      "[EPOCH:9] \tTest Loss : 0.0301 \tTest Accuracy : 66.36\n",
      "\n",
      "Train Epoch : 10 [0/50000(0%)]\tTrain Loss : 0.5988355278968811\n",
      "Train Epoch : 10 [6400/50000(13%)]\tTrain Loss : 0.976787269115448\n",
      "Train Epoch : 10 [12800/50000(26%)]\tTrain Loss : 0.6284328699111938\n",
      "Train Epoch : 10 [19200/50000(38%)]\tTrain Loss : 0.9989944696426392\n",
      "Train Epoch : 10 [25600/50000(51%)]\tTrain Loss : 1.161642074584961\n",
      "Train Epoch : 10 [32000/50000(64%)]\tTrain Loss : 0.7949209213256836\n",
      "Train Epoch : 10 [38400/50000(77%)]\tTrain Loss : 0.8041048049926758\n",
      "Train Epoch : 10 [44800/50000(90%)]\tTrain Loss : 0.9415088295936584\n",
      "\n",
      "[EPOCH:10] \tTest Loss : 0.0297 \tTest Accuracy : 66.78\n",
      "\n"
     ]
    }
   ],
   "source": [
    "# CNN 학습을 실행하면서 Train, Test set의 Loss 및 Test set Accuracy 확인하기\n",
    "for Epoch in range(1, EPOCHS+1):\n",
    "    train(model, train_loader, optimizer, log_interval=200, epoch=Epoch)\n",
    "    test_loss, test_accuracy = evaluate(model, test_loader)\n",
    "    print(f\"\\n[EPOCH:{Epoch}] \\tTest Loss : {test_loss:.4f} \\tTest Accuracy : {test_accuracy:.2f}\\n\")"
   ],
   "metadata": {
    "collapsed": false,
    "pycharm": {
     "name": "#%%\n"
    }
   }
  }
 ],
 "metadata": {
  "kernelspec": {
   "display_name": "Python 3",
   "language": "python",
   "name": "python3"
  },
  "language_info": {
   "codemirror_mode": {
    "name": "ipython",
    "version": 2
   },
   "file_extension": ".py",
   "mimetype": "text/x-python",
   "name": "python",
   "nbconvert_exporter": "python",
   "pygments_lexer": "ipython2",
   "version": "2.7.6"
  }
 },
 "nbformat": 4,
 "nbformat_minor": 0
}